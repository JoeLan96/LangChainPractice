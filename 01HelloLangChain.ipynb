{
 "cells": [
  {
   "cell_type": "markdown",
   "source": [
    "## 1 环境配置\n",
    "命令行执行\n",
    "```cmd\n",
    "conda create --name promptclpy38 python=3.8\n",
    "```\n",
    "\n",
    "安装必要的包new\n",
    "```cmd\n",
    "pip install  langchain==0.1.13 openai==1.14.2\n",
    "```\n",
    "安装可选包（使用环境变量配置API key）\n",
    "```cmd\n",
    "pip install python-dotenv\n",
    "```\n",
    "\n",
    "详细的 package 版本\n",
    "langchain-0.1.13\n",
    "langchain-community-0.0.29\n",
    "langchain-core-0.1.33\n",
    "\n",
    "colorama-0.4.6\n",
    "distro-1.8.0\n",
    "httpcore-1.0.2\n",
    "httpx-0.26.0\n",
    "langchain-openai-0.0.8\n",
    "openai-1.14.2\n",
    "tiktoken-0.5.2"
   ],
   "metadata": {
    "collapsed": false
   },
   "id": "273b4c955bca7d53"
  },
  {
   "cell_type": "markdown",
   "source": [
    "## 2 Quick Start "
   ],
   "metadata": {
    "collapsed": false
   },
   "id": "8160a64241816667"
  },
  {
   "cell_type": "markdown",
   "source": [
    "### 2.1 设置环境变量和配置代理"
   ],
   "metadata": {
    "collapsed": false
   },
   "id": "cda6ae8a2f4e6fd9"
  },
  {
   "cell_type": "code",
   "execution_count": 1,
   "outputs": [],
   "source": [
    "import os\n",
    "import openai\n",
    "\n",
    "from dotenv import find_dotenv, load_dotenv\n",
    "# 如果你设置的是全局的环境变量，这行代码则没有任何作用。\n",
    "_ = load_dotenv(find_dotenv()) # read local .env file\n",
    "openai.api_key = os.environ['OPENAI_API_KEY']\n",
    "\n",
    "# 如果你需要通过代理端口访问，你需要如下配置\n",
    "os.environ['HTTPS_PROXY'] = 'http://127.0.0.1:7890'\n",
    "os.environ[\"HTTP_PROXY\"] = 'http://127.0.0.1:7890'"
   ],
   "metadata": {
    "collapsed": false,
    "ExecuteTime": {
     "end_time": "2024-03-25T12:50:10.208365600Z",
     "start_time": "2024-03-25T12:50:09.870808600Z"
    }
   },
   "id": "5dd7e2013ca4fdbd"
  },
  {
   "cell_type": "code",
   "execution_count": 2,
   "outputs": [
    {
     "data": {
      "text/plain": "AIMessage(content='Langsmith can help with testing by providing automated test generation and execution capabilities. This can help in reducing manual effort and time required for testing. Langsmith can also assist in generating test cases, analyzing test results, and identifying potential issues in the software. Additionally, Langsmith can help in creating test scripts, running tests on different environments, and ensuring the quality and reliability of the software.', response_metadata={'token_usage': {'completion_tokens': 77, 'prompt_tokens': 15, 'total_tokens': 92}, 'model_name': 'gpt-3.5-turbo', 'system_fingerprint': 'fp_3bc1b5746c', 'finish_reason': 'stop', 'logprobs': None})"
     },
     "execution_count": 2,
     "metadata": {},
     "output_type": "execute_result"
    }
   ],
   "source": [
    "# 加载模型\n",
    "from langchain_openai import ChatOpenAI\n",
    "\n",
    "llm = ChatOpenAI(model_name =\"gpt-3.5-turbo\")\n",
    "llm.invoke(\"how can langsmith help with testing?\")"
   ],
   "metadata": {
    "collapsed": false,
    "ExecuteTime": {
     "end_time": "2024-03-25T12:50:15.459628Z",
     "start_time": "2024-03-25T12:50:11.587857700Z"
    }
   },
   "id": "bdede813174e74e"
  },
  {
   "cell_type": "code",
   "execution_count": 3,
   "outputs": [],
   "source": [
    "# 使用提示模板来指导它的响应。提示模板用于将原始用户输入转换为更好的输入。LLM\n",
    "from langchain_core.prompts import ChatPromptTemplate\n",
    "\n",
    "prompt = ChatPromptTemplate.from_messages([\n",
    "    (\"system\", \"You are world class technical documentation writer.\"),\n",
    "    (\"user\", \"{input}\")\n",
    "])"
   ],
   "metadata": {
    "collapsed": false,
    "ExecuteTime": {
     "end_time": "2024-03-25T12:51:35.659965600Z",
     "start_time": "2024-03-25T12:51:35.621926600Z"
    }
   },
   "id": "71abff39348c2eeb"
  },
  {
   "cell_type": "code",
   "execution_count": 4,
   "outputs": [],
   "source": [
    "# 现在，我们可以将它们组合成一个简单的LLM链：\n",
    "chain = prompt | llm "
   ],
   "metadata": {
    "collapsed": false,
    "ExecuteTime": {
     "end_time": "2024-03-25T12:51:50.686746600Z",
     "start_time": "2024-03-25T12:51:50.672222400Z"
    }
   },
   "id": "f6d8909b37de2a39"
  },
  {
   "cell_type": "code",
   "execution_count": 5,
   "outputs": [],
   "source": [
    "response = chain.invoke({\"input\": \"how can langsmith help with testing?\"})"
   ],
   "metadata": {
    "collapsed": false,
    "ExecuteTime": {
     "end_time": "2024-03-25T12:52:16.108542700Z",
     "start_time": "2024-03-25T12:52:10.916003700Z"
    }
   },
   "id": "b61fb7b81a5acf5"
  },
  {
   "cell_type": "code",
   "execution_count": 6,
   "outputs": [
    {
     "data": {
      "text/plain": "langchain_core.messages.ai.AIMessage"
     },
     "execution_count": 6,
     "metadata": {},
     "output_type": "execute_result"
    }
   ],
   "source": [
    "type(response)"
   ],
   "metadata": {
    "collapsed": false,
    "ExecuteTime": {
     "end_time": "2024-03-25T12:52:25.081303900Z",
     "start_time": "2024-03-25T12:52:25.072204200Z"
    }
   },
   "id": "b5a6a141b1266104"
  },
  {
   "cell_type": "code",
   "execution_count": 8,
   "outputs": [
    {
     "data": {
      "text/plain": "\"Langsmith can help with testing in various ways, including:\\n\\n1. **Automated Testing**: Langsmith can generate test cases for your code, allowing you to automate the testing process and ensure comprehensive test coverage.\\n\\n2. **Test Data Generation**: Langsmith can create synthetic test data to use in your tests, helping you to test edge cases and scenarios that may not be easily replicable with real data.\\n\\n3. **Test Scenario Exploration**: Langsmith can help you explore different test scenarios and identify potential areas of weakness in your code, allowing you to proactively address issues before they become critical.\\n\\n4. **Regression Testing**: Langsmith can assist in creating regression tests to ensure that new code changes do not introduce new bugs or issues into the system.\\n\\n5. **Performance Testing**: Langsmith can help simulate different load conditions and stress test your system to identify performance bottlenecks and ensure that your code can handle the expected workload.\\n\\nBy leveraging Langsmith's capabilities in testing, you can improve the quality and reliability of your code, streamline the testing process, and ultimately deliver a more robust and stable product to your users.\""
     },
     "execution_count": 8,
     "metadata": {},
     "output_type": "execute_result"
    }
   ],
   "source": [
    "response.content"
   ],
   "metadata": {
    "collapsed": false,
    "ExecuteTime": {
     "end_time": "2024-03-25T12:53:33.832780600Z",
     "start_time": "2024-03-25T12:53:33.825780600Z"
    }
   },
   "id": "5979b0aaf5122d8c"
  },
  {
   "cell_type": "code",
   "execution_count": 9,
   "outputs": [],
   "source": [
    "# ChatModel 的输出（因此，此链的输出）是一条消息。但是，使用字符串通常要方便得多。让我们添加一个简单的输出解析器，将聊天消息转换为字符串。\n",
    "\n",
    "from langchain_core.output_parsers import StrOutputParser\n",
    "\n",
    "output_parser = StrOutputParser()"
   ],
   "metadata": {
    "collapsed": false,
    "ExecuteTime": {
     "end_time": "2024-03-25T12:54:30.444813Z",
     "start_time": "2024-03-25T12:54:30.435809100Z"
    }
   },
   "id": "4a78ba33b8e20d79"
  },
  {
   "cell_type": "code",
   "execution_count": 10,
   "outputs": [],
   "source": [
    "chain = prompt | llm | output_parser"
   ],
   "metadata": {
    "collapsed": false,
    "ExecuteTime": {
     "end_time": "2024-03-25T12:54:42.131368600Z",
     "start_time": "2024-03-25T12:54:42.109356700Z"
    }
   },
   "id": "932de9b5354eb5c6"
  },
  {
   "cell_type": "code",
   "execution_count": 12,
   "outputs": [
    {
     "data": {
      "text/plain": "'Langsmith can be a valuable tool for testing in a few ways:\\n\\n1. **Automated Testing**: Langsmith can help automate testing processes by generating test cases and scenarios based on the specifications provided. This can save time and effort in writing test cases manually.\\n\\n2. **Test Data Generation**: Langsmith can generate a variety of test data to cover different scenarios and edge cases. This can help in testing the robustness and reliability of the software under different conditions.\\n\\n3. **Test Coverage**: By generating diverse test cases, Langsmith can help ensure comprehensive test coverage, increasing the likelihood of identifying and addressing potential issues in the software.\\n\\n4. **Regression Testing**: Langsmith can assist in regression testing by automatically generating test cases based on changes made to the software. This can help ensure that new updates or features do not introduce unexpected bugs or issues.\\n\\n5. **Load Testing**: Langsmith can also be used for load testing by generating a large volume of test data to simulate heavy usage scenarios. This can help assess the performance and scalability of the software under high load conditions.\\n\\nOverall, Langsmith can enhance the testing process by providing automated test case generation, diverse test data, comprehensive test coverage, regression testing support, and load testing capabilities.'"
     },
     "execution_count": 12,
     "metadata": {},
     "output_type": "execute_result"
    }
   ],
   "source": [
    "response2 = chain.invoke({\"input\": \"how can langsmith help with testing?\"})\n",
    "response2"
   ],
   "metadata": {
    "collapsed": false,
    "ExecuteTime": {
     "end_time": "2024-03-25T13:04:42.021818300Z",
     "start_time": "2024-03-25T13:04:35.041352800Z"
    }
   },
   "id": "7b600c250ac165e9"
  },
  {
   "cell_type": "code",
   "execution_count": 13,
   "outputs": [
    {
     "data": {
      "text/plain": "str"
     },
     "execution_count": 13,
     "metadata": {},
     "output_type": "execute_result"
    }
   ],
   "source": [
    "type(response2)"
   ],
   "metadata": {
    "collapsed": false,
    "ExecuteTime": {
     "end_time": "2024-03-25T13:04:43.797780300Z",
     "start_time": "2024-03-25T13:04:43.767771300Z"
    }
   },
   "id": "208ba820dba0361b"
  },
  {
   "cell_type": "code",
   "execution_count": null,
   "outputs": [],
   "source": [],
   "metadata": {
    "collapsed": false
   },
   "id": "9ab2b3c1ae906499"
  }
 ],
 "metadata": {
  "kernelspec": {
   "display_name": "Python 3",
   "language": "python",
   "name": "python3"
  },
  "language_info": {
   "codemirror_mode": {
    "name": "ipython",
    "version": 2
   },
   "file_extension": ".py",
   "mimetype": "text/x-python",
   "name": "python",
   "nbconvert_exporter": "python",
   "pygments_lexer": "ipython2",
   "version": "2.7.6"
  }
 },
 "nbformat": 4,
 "nbformat_minor": 5
}
