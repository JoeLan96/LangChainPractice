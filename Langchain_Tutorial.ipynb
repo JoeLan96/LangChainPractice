{
 "cells": [
  {
   "cell_type": "markdown",
   "source": [
    "## 1 环境配置\n",
    "python 虚拟环境创建\n",
    "```cmd\n",
    "conda create --name promptclpy38 python=3.8\n",
    "```\n",
    "\n",
    "安装 langchain 和 openai\n",
    "```cmd\n",
    "pip install langchain\n",
    "```\n",
    "\n",
    "```cmd\n",
    "pip install langchain-openai\n",
    "```\n",
    "\n",
    "```cmd\n",
    "pip install faiss-cpu\n",
    "```\n",
    "\n",
    "如果上述默认安装版本不可用，可以使用指定版本安装\n",
    "\n",
    "```cmd\n",
    "pip install  langchain==0.1.13 openai==1.14.2\n",
    "```\n",
    "\n",
    "详细的 package 版本\n",
    "langchain-0.1.13\n",
    "langchain-community-0.0.29\n",
    "langchain-core-0.1.33\n",
    "\n",
    "\n",
    "colorama-0.4.6\n",
    "distro-1.8.0\n",
    "httpcore-1.0.2\n",
    "httpx-0.26.0\n",
    "langchain-openai-0.0.8\n",
    "openai-1.14.2\n",
    "tiktoken-0.5.2\n",
    "\n",
    "faiss-1.7.4\n",
    "chromadb-0.4.24"
   ],
   "metadata": {
    "collapsed": false
   },
   "id": "4e348c117b3ae5e5"
  },
  {
   "cell_type": "markdown",
   "source": [],
   "metadata": {
    "collapsed": false
   },
   "id": "c517bc1dcc7592d8"
  },
  {
   "cell_type": "code",
   "execution_count": null,
   "outputs": [],
   "source": [
    "from langchain_community.document_loaders import TextLoader\n",
    "from langchain.text_splitter import RecursiveCharacterTextSplitter\n",
    "from langchain_core.output_parsers import StrOutputParser\n",
    "from langchain_core.prompts import ChatPromptTemplate\n",
    "from langchain_core.runnables import RunnableParallel, RunnablePassthrough\n",
    "from langchain.vectorstores import FAISS\n",
    "from langchain_openai import ChatOpenAI, OpenAIEmbeddings\n",
    "\n",
    "# 1.加载文档 \n",
    "loader = TextLoader(\"./data/log.txt\", encoding=\"utf-8\")\n",
    "docs = loader.load()\n",
    "\n",
    "# 2.拆分文档  （大文档才拆分）\n",
    "text_splitter = RecursiveCharacterTextSplitter(\n",
    "    chunk_size = 2000,\n",
    "    chunk_overlap  = 200,\n",
    "    length_function = len,\n",
    ")\n",
    "texts = text_splitter.split_documents(docs)\n",
    "\n",
    "\n",
    "# 3.向量化文档并创建检索器\n",
    "db = FAISS.from_documents(texts, OpenAIEmbeddings(\n",
    "    openai_api_base=\"https://api.nextapi.fun/v1\", # 注意，末尾要加 /v1\n",
    "    openai_api_key=\"ak-5q53TviefzOYW8xW2F0gFtS20aO2gT288sPWSD92YQpjqmSJ\",\n",
    "))\n",
    "retriever = db.as_retriever()\n",
    "\n",
    "# 4.创建提示词模板\n",
    "prompt = ChatPromptTemplate.from_messages([\n",
    "    (\"system\", \"You are a helpful AI bot. Your name is Carl.\"),\n",
    "    (\"user\", \"Answer the question based only on the following context:\\n{context}\\nQuestion: {question}\")\n",
    "])\n",
    "\n",
    "\n",
    "# 5. 加载模型（此方法为中转API调用）\n",
    "model = ChatOpenAI(\n",
    "    model_name =\"gpt-3.5-turbo\",\n",
    "    openai_api_base=\"https://api.nextapi.fun/v1\", \n",
    "    openai_api_key=\"ak-5q53TviefzOYW8xW2F0gFtS20aO2gT288sPWSD92YQpjqmSJ\",\n",
    ")\n",
    "\n",
    "# 设置输出转换器\n",
    "output_parser = StrOutputParser()\n",
    "\n",
    "# 开启内容并行装载（同时填充context和question）\n",
    "setup_and_retrieval = RunnableParallel(\n",
    "    {\"context\": retriever, \"question\": RunnablePassthrough()}\n",
    ")\n",
    "\n",
    "chain = setup_and_retrieval | prompt | model | output_parser\n",
    "\n",
    "result = chain.invoke(\"What it is your name? and where did harrison work?\")\n",
    "print(result)"
   ],
   "metadata": {
    "collapsed": false
   },
   "id": "a73ed5dde27042e2"
  }
 ],
 "metadata": {
  "kernelspec": {
   "display_name": "Python 3",
   "language": "python",
   "name": "python3"
  },
  "language_info": {
   "codemirror_mode": {
    "name": "ipython",
    "version": 2
   },
   "file_extension": ".py",
   "mimetype": "text/x-python",
   "name": "python",
   "nbconvert_exporter": "python",
   "pygments_lexer": "ipython2",
   "version": "2.7.6"
  }
 },
 "nbformat": 4,
 "nbformat_minor": 5
}
