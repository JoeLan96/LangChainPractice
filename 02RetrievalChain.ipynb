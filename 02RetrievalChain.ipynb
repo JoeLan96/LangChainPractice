{
 "cells": [
  {
   "cell_type": "markdown",
   "source": [
    "## 什么是数据连接？\n",
    "\n",
    "LLM应用往往需要用户特定的数据，而这些数据并不属于模型的训练集。`LangChain` 的数据连接概念，\n",
    "通过提供以下组件，实现用户数据的加载、转换、存储和查询：\n",
    "\n",
    "- 文档加载器：从不同的数据源加载文档\n",
    "- 文档转换器：拆分文档，将文档转换为问答格式，去除a冗余文档，等等\n",
    "- 文本嵌入模型：将非结构化文本转换为浮点数数组表现形式，也称为向量\n",
    "- 向量存储：存储和搜索嵌入数据（向量）\n",
    "- 检索器：提供数据查询的通用接口\n",
    "\n",
    "我们通过下一段落的实践，来介绍这些组件的使用。\n",
    "## 数据连接实践\n",
    "\n",
    "在LLM应用连接用户数据时，通常我们会以如下步骤完成：\n",
    "1. 加载文档\n",
    "2. 拆分文档\n",
    "3. 向量化文档分块\n",
    "4. 向量数据存储\n",
    "\n",
    "这样，我们就可以通过向量数据的检索器，来查询用户数据。接下来我们看看每一步的代码实现示例。\n",
    "最后，我们将通过一个完整的示例来演示如何使用数据连接。\n",
    "\n",
    "### 加载文档\n",
    "\n",
    "`Langchain` 提供了多种文档加载器，用于从不同的数据源加载不同类型的文档。\n",
    "比如，我们可以从本地文件系统加载文档，也可以通过网络加载远程数据。想了解 `Langchain` 所支持的所有文档加载器，\n",
    "请参考[Document Loaders](https://python.langchain.com/docs/modules/data_connection/document_loaders/)。"
   ],
   "metadata": {
    "collapsed": false
   },
   "id": "85780b3d7b0377e2"
  },
  {
   "cell_type": "markdown",
   "source": [
    "### 环境配置\n",
    "我们需要为此安装所需的软件包：\n",
    "\n",
    "```CMD\n",
    "conda install faiss-cpu\n",
    "```\n",
    "\n",
    "安装 package 的详细版本信息\n",
    "faiss-1.7.4\n",
    "faiss-cpu-1.7.4\n",
    "Libfaiss-1.7.4\n",
    "libfaiss-avx2-1.7.4\n",
    "\n",
    "在本节课程中，我们将使用最基本的 `TextLoader` 来加载本地文件系统中的文档。代码如下：\n"
   ],
   "metadata": {
    "collapsed": false
   },
   "id": "700857ca36951c2e"
  },
  {
   "cell_type": "code",
   "execution_count": 1,
   "outputs": [],
   "source": [
    "import os\n",
    "import openai\n",
    "from dotenv import find_dotenv, load_dotenv\n",
    "# 如果你设置的是全局的环境变量，这行代码则没有任何作用。\n",
    "_ = load_dotenv(find_dotenv()) # read local .env file\n",
    "openai.api_key = os.environ['OPENAI_API_KEY']\n",
    "\n",
    "# 如果你需要通过代理端口访问，你需要如下配置\n",
    "os.environ['HTTPS_PROXY'] = 'http://127.0.0.1:7890'\n",
    "os.environ[\"HTTP_PROXY\"] = 'http://127.0.0.1:7890'"
   ],
   "metadata": {
    "collapsed": false,
    "ExecuteTime": {
     "end_time": "2024-03-26T10:05:49.561393400Z",
     "start_time": "2024-03-26T10:05:49.098229900Z"
    }
   },
   "id": "9c298834e6bfe1c7"
  },
  {
   "cell_type": "code",
   "execution_count": 2,
   "outputs": [
    {
     "data": {
      "text/plain": "[Document(page_content='---\\ntitle: 01. Hello Langchain\\ntags:\\n  - openai\\n  - llm\\n  - langchain\\n---\\n\\n# WTF Langchain极简入门: 01. Hello Langchain\\n\\n最近在学习Langchain框架，顺手写一个“WTF Langchain极简入门”，供小白们使用（编程大佬可以另找教程）。本教程默认以下前提：\\n- 使用Python版本的[Langchain](https://github.com/hwchase17/langchain)\\n- LLM使用OpenAI的模型\\n- Langchain目前还处于快速发展阶段，版本迭代频繁，为避免示例代码失效，本教程统一使用版本 **0.0.235**\\n\\n根据Langchain的[代码约定](https://github.com/hwchase17/langchain/blob/v0.0.235/pyproject.toml#L14C1-L14C24)，Python版本 \">=3.8.1,<4.0\"。\\n\\n推特：[@verysmallwoods](https://twitter.com/verysmallwoods)\\n\\n所有代码和教程开源在github: [github.com/sugarforever/wtf-langchain](https://github.com/sugarforever/wtf-langchain)\\n\\n-----\\n\\n## Langchain 简介\\n\\n大型语言模型（LLM）正在成为一种具有变革性的技术，使开发人员能够构建以前无法实现的应用程序。然而，仅仅依靠LLM还不足以创建一个真正强大的应用程序。它还需要其他计算资源或知识来源。\\n\\n`Langchain` 旨在帮助开发这些类型应用程序，比如：\\n- 基于文档数据的问答\\n- 聊天机器人\\n- 代理\\n\\n## OpenAI 简介\\n\\n`OpenAI` 是LLM生态的模型层最大的玩家之一。大家目前熟知的 *GPT-3.5*，*GPT-4* 等模型都是OpenAI的产品。它的API允许开发人员通过简单的API调用来访问这些模型。\\n\\n## Langchain与OpenAI\\n\\n`Langchain` 作为一个开源框架，提供与OpenAI等语言模型的接口，简化了在应用程序中集成和利用语言模型能力的过程。\\n\\n## 开发前的准备\\n\\n在开始第一个Langchain应用程序之前，我们需要做一些必要的准备。\\n\\n### Google Colab\\n\\n本教程中，我们将使用 `Google Colab` 在云端运行 `Python` 代码。Google Colab（全称Google Colaboratory）是一个由Google提供的云端开发环境，用于数据分析、机器学习和深度学习任务。它基于Jupyter Notebook，提供了一个免费的、云端的Python编程环境，用户可以直接在浏览器中编写和执行Python代码。\\n\\n网址：[https://colab.research.google.com/](https://colab.research.google.com/)\\n\\n![Google Colab](./google_colab.png)\\n\\n无法使用Google Colab的同学，可以使用Visual Studio Code配合Jupyter插件在本地运行代码。\\n\\n### OpenAI API Key\\n\\n在Langchain应用中使用OpenAI的模型，我们需要一个API Key。点击[https://platform.openai.com/account/api-keys](https://platform.openai.com/account/api-keys)创建你的API Key。\\n\\n## 第一个 Langchain 应用\\n\\n这个简单的程序只有 1 行安装指令和 7 行代码：\\n\\n### 安装指令\\n\\n```shell\\npip install langchain==0.0.235 openai==0.28.2\\n```\\n\\n### 代码\\n\\n[Hello_Langchain.ipynb](./Hello_Langchain.ipynb)\\n\\n```python\\nfrom langchain.chat_models import ChatOpenAI\\nfrom langchain.schema import HumanMessage\\n\\nimport os\\nos.environ[\\'OPENAI_API_KEY\\'] = \\'您的有效OpenAI API Key\\'\\n\\nchat = ChatOpenAI(temperature=0, model_name=\"gpt-3.5-turbo\")\\nresponse = chat([ HumanMessage(content=\"Hello Langchain!\") ])\\nprint(response)\\n```\\n\\n你应该能看到类似这样的输出：\\n\\n```shell\\ncontent=\\'Hello! How can I assist you today?\\' additional_kwargs={} example=False\\n```\\n\\n我们拆解程序，学习该代码的结构：\\n\\n1. 以下系统命令安装必要的Python包，langchain和openai。\\n\\n  ```shell\\n  pip install langchain==0.0.235 openai\\n  ```\\n\\n2. 以下代码将OpenAI的API Key设置在环境变量中。默认情况下，Langchain会从环境变量 `OPENAI_API_KEY` 中读取API Key。注意，在代码中直接嵌入API Key明文并不安全，切勿将API Key直接提交到代码仓库。我们建议利用.env文件和python-dotenv包来管理API Key。\\n\\n  ```python\\n  import os\\n  os.environ[\\'OPENAI_API_KEY\\'] = \\'您的有效OpenAI API Key\\'\\n  ```\\n    \\n3. 以下代码导入了 `ChatOpenAI` 类，该类封装了OpenAI的聊天模型。`ChatOpenAI` 类的初始化参数 `temperature` 用于控制模型的生成文本的多样性。`temperature` 越大，生成的文本越多样，但也越不可控。`temperature` 越小，生成的文本越单一，但也越可控。`temperature` 的取值范围为 0 到 1，默认值为 0.5。初始化参数 `model_name` 用于指定使用的模型，默认值为 `gpt-3.5-turbo`。\\n\\n  ```python\\n  chat = ChatOpenAI(temperature=0, model_name=\"gpt-3.5-turbo\")\\n  ```\\n\\n4. 以下代码完成与OpenAI GPT模型的第一次对话，并打印出响应。\\n\\n  ```python\\n  response = chat([ HumanMessage(content=\"Hello Langchain!\") ])\\n  print(response)\\n  ```\\n\\n## 运行代码\\n\\n在 Google Colab 的页面，在每一个代码块，按 Ctrl/Cmd + Enter 即可运行代码，非常方便。\\n\\n![](./hello_langchain.png)\\n\\n## 总结\\n本节课程中，我们简要介绍了 `Langchain`，`OpenAI` 以及它们的关系，并完成了第一个 `Langchain` 应用 —— `Hello Langchain`。\\n\\n### 相关文档资料链接：\\n1. [Python Langchain官方文档](https://python.langchain.com/docs/get_started/introduction.html) ', metadata={'source': './LongText.md'})]"
     },
     "execution_count": 2,
     "metadata": {},
     "output_type": "execute_result"
    }
   ],
   "source": [
    "# 1.加载文档\n",
    "from langchain_community.document_loaders import TextLoader\n",
    "\n",
    "loader = TextLoader(\"./LongText.md\", encoding=\"utf-8\")\n",
    "docs = loader.load()\n",
    "docs"
   ],
   "metadata": {
    "collapsed": false,
    "ExecuteTime": {
     "end_time": "2024-03-26T10:05:52.755341700Z",
     "start_time": "2024-03-26T10:05:52.578272700Z"
    }
   },
   "id": "e8e12756935a8324"
  },
  {
   "cell_type": "code",
   "execution_count": 7,
   "outputs": [
    {
     "name": "stdout",
     "output_type": "stream",
     "text": [
      "996\n",
      "9\n",
      "459\n",
      "470\n",
      "63\n",
      "296\n",
      "451\n",
      "468\n",
      "48\n",
      "495\n",
      "375\n",
      "sum =  3125\n"
     ]
    }
   ],
   "source": [
    "# 2.拆分文档\n",
    "from langchain_text_splitters import CharacterTextSplitter\n",
    "\n",
    "text_splitter = CharacterTextSplitter(\n",
    "    separator = \"\\n\\n\",\n",
    "    chunk_size = 500,\n",
    "    chunk_overlap  = 0,\n",
    "    length_function = len,\n",
    ")\n",
    "\n",
    "split_docs = text_splitter.split_documents(docs)\n",
    "print(len(docs[0].page_content))\n",
    "print(len(split_docs))\n",
    "\n",
    "sum = 0\n",
    "for split_doc in split_docs:\n",
    "    cal = len(split_doc.page_content)\n",
    "    print(cal)\n",
    "    sum += cal\n",
    "print(\"sum = \", sum)"
   ],
   "metadata": {
    "collapsed": false,
    "ExecuteTime": {
     "end_time": "2024-03-26T10:08:57.418863500Z",
     "start_time": "2024-03-26T10:08:57.389832900Z"
    }
   },
   "id": "93c478db45aa9058"
  },
  {
   "cell_type": "code",
   "execution_count": 8,
   "outputs": [],
   "source": [
    "from langchain_openai import OpenAIEmbeddings\n",
    "from langchain_community.vectorstores import FAISS\n",
    "\n",
    "embeddings = OpenAIEmbeddings()\n",
    "db = FAISS.from_documents(split_docs, embeddings)"
   ],
   "metadata": {
    "collapsed": false,
    "ExecuteTime": {
     "end_time": "2024-03-26T10:09:00.465408700Z",
     "start_time": "2024-03-26T10:08:58.576217Z"
    }
   },
   "id": "4a43972466c579c2"
  },
  {
   "cell_type": "code",
   "execution_count": 20,
   "outputs": [
    {
     "name": "stdout",
     "output_type": "stream",
     "text": [
      "---\n",
      "title: 01. Hello Langchain\n",
      "tags:\n",
      "  - openai\n",
      "  - llm\n",
      "  - langchain\n",
      "---\n",
      "\n",
      "# WTF Langchain极简入门: 01. Hello Langchain\n",
      "\n",
      "最近在学习Langchain框架，顺手写一个“WTF Langchain极简入门”，供小白们使用（编程大佬可以另找教程）。本教程默认以下前提：\n",
      "- 使用Python版本的[Langchain](https://github.com/hwchase17/langchain)\n",
      "- LLM使用OpenAI的模型\n",
      "- Langchain目前还处于快速发展阶段，版本迭代频繁，为避免示例代码失效，本教程统一使用版本 **0.0.235**\n",
      "\n",
      "根据Langchain的[代码约定](https://github.com/hwchase17/langchain/blob/v0.0.235/pyproject.toml#L14C1-L14C24)，Python版本 \">=3.8.1,<4.0\"。\n"
     ]
    }
   ],
   "source": [
    "query = \"什么是WTF Langchain？\"\n",
    "sim_docs = db.similarity_search_with_score(query, 3)\n",
    "print(sim_docs[0][0].page_content)"
   ],
   "metadata": {
    "collapsed": false,
    "ExecuteTime": {
     "end_time": "2024-03-26T13:06:08.528192700Z",
     "start_time": "2024-03-26T13:06:06.376317Z"
    }
   },
   "id": "53d5d036c4f99b93"
  },
  {
   "cell_type": "code",
   "execution_count": 21,
   "outputs": [
    {
     "data": {
      "text/plain": "[(Document(page_content='---\\ntitle: 01. Hello Langchain\\ntags:\\n  - openai\\n  - llm\\n  - langchain\\n---\\n\\n# WTF Langchain极简入门: 01. Hello Langchain\\n\\n最近在学习Langchain框架，顺手写一个“WTF Langchain极简入门”，供小白们使用（编程大佬可以另找教程）。本教程默认以下前提：\\n- 使用Python版本的[Langchain](https://github.com/hwchase17/langchain)\\n- LLM使用OpenAI的模型\\n- Langchain目前还处于快速发展阶段，版本迭代频繁，为避免示例代码失效，本教程统一使用版本 **0.0.235**\\n\\n根据Langchain的[代码约定](https://github.com/hwchase17/langchain/blob/v0.0.235/pyproject.toml#L14C1-L14C24)，Python版本 \">=3.8.1,<4.0\"。', metadata={'source': './LongText.md'}),\n  0.28679264),\n (Document(page_content='推特：[@verysmallwoods](https://twitter.com/verysmallwoods)\\n\\n所有代码和教程开源在github: [github.com/sugarforever/wtf-langchain](https://github.com/sugarforever/wtf-langchain)\\n\\n-----\\n\\n## Langchain 简介\\n\\n大型语言模型（LLM）正在成为一种具有变革性的技术，使开发人员能够构建以前无法实现的应用程序。然而，仅仅依靠LLM还不足以创建一个真正强大的应用程序。它还需要其他计算资源或知识来源。\\n\\n`Langchain` 旨在帮助开发这些类型应用程序，比如：\\n- 基于文档数据的问答\\n- 聊天机器人\\n- 代理\\n\\n## OpenAI 简介\\n\\n`OpenAI` 是LLM生态的模型层最大的玩家之一。大家目前熟知的 *GPT-3.5*，*GPT-4* 等模型都是OpenAI的产品。它的API允许开发人员通过简单的API调用来访问这些模型。\\n\\n## Langchain与OpenAI', metadata={'source': './LongText.md'}),\n  0.3010192),\n (Document(page_content='`Langchain` 作为一个开源框架，提供与OpenAI等语言模型的接口，简化了在应用程序中集成和利用语言模型能力的过程。', metadata={'source': './LongText.md'}),\n  0.30614093)]"
     },
     "execution_count": 21,
     "metadata": {},
     "output_type": "execute_result"
    }
   ],
   "source": [
    "sim_docs"
   ],
   "metadata": {
    "collapsed": false,
    "ExecuteTime": {
     "end_time": "2024-03-26T13:06:15.465511100Z",
     "start_time": "2024-03-26T13:06:15.443507700Z"
    }
   },
   "id": "4c0b3d9c3ead5388"
  },
  {
   "cell_type": "code",
   "execution_count": 22,
   "outputs": [
    {
     "name": "stdout",
     "output_type": "stream",
     "text": [
      "Document: page_content='---\\ntitle: 01. Hello Langchain\\ntags:\\n  - openai\\n  - llm\\n  - langchain\\n---\\n\\n# WTF Langchain极简入门: 01. Hello Langchain\\n\\n最近在学习Langchain框架，顺手写一个“WTF Langchain极简入门”，供小白们使用（编程大佬可以另找教程）。本教程默认以下前提：\\n- 使用Python版本的[Langchain](https://github.com/hwchase17/langchain)\\n- LLM使用OpenAI的模型\\n- Langchain目前还处于快速发展阶段，版本迭代频繁，为避免示例代码失效，本教程统一使用版本 **0.0.235**\\n\\n根据Langchain的[代码约定](https://github.com/hwchase17/langchain/blob/v0.0.235/pyproject.toml#L14C1-L14C24)，Python版本 \">=3.8.1,<4.0\"。' metadata={'source': './LongText.md'}, Similarity Score: 0.2867926359176636\n",
      "Document: page_content='推特：[@verysmallwoods](https://twitter.com/verysmallwoods)\\n\\n所有代码和教程开源在github: [github.com/sugarforever/wtf-langchain](https://github.com/sugarforever/wtf-langchain)\\n\\n-----\\n\\n## Langchain 简介\\n\\n大型语言模型（LLM）正在成为一种具有变革性的技术，使开发人员能够构建以前无法实现的应用程序。然而，仅仅依靠LLM还不足以创建一个真正强大的应用程序。它还需要其他计算资源或知识来源。\\n\\n`Langchain` 旨在帮助开发这些类型应用程序，比如：\\n- 基于文档数据的问答\\n- 聊天机器人\\n- 代理\\n\\n## OpenAI 简介\\n\\n`OpenAI` 是LLM生态的模型层最大的玩家之一。大家目前熟知的 *GPT-3.5*，*GPT-4* 等模型都是OpenAI的产品。它的API允许开发人员通过简单的API调用来访问这些模型。\\n\\n## Langchain与OpenAI' metadata={'source': './LongText.md'}, Similarity Score: 0.30101919174194336\n",
      "Document: page_content='`Langchain` 作为一个开源框架，提供与OpenAI等语言模型的接口，简化了在应用程序中集成和利用语言模型能力的过程。' metadata={'source': './LongText.md'}, Similarity Score: 0.3061409294605255\n"
     ]
    }
   ],
   "source": [
    "for doc, score in sim_docs:\n",
    "    print(f\"Document: {doc}, Similarity Score: {score}\")"
   ],
   "metadata": {
    "collapsed": false,
    "ExecuteTime": {
     "end_time": "2024-03-26T13:06:39.534665700Z",
     "start_time": "2024-03-26T13:06:39.506141200Z"
    }
   },
   "id": "8aa1fc9a85a382c6"
  },
  {
   "cell_type": "code",
   "execution_count": 10,
   "outputs": [
    {
     "name": "stdout",
     "output_type": "stream",
     "text": [
      "<langchain_community.vectorstores.faiss.FAISS object at 0x000001E700B8CBB0>\n"
     ]
    }
   ],
   "source": [
    "print(db)"
   ],
   "metadata": {
    "collapsed": false,
    "ExecuteTime": {
     "end_time": "2024-03-26T10:09:33.143922500Z",
     "start_time": "2024-03-26T10:09:33.128922900Z"
    }
   },
   "id": "fdf7d075da18b040"
  },
  {
   "cell_type": "code",
   "execution_count": 12,
   "outputs": [],
   "source": [
    "from langchain_openai import ChatOpenAI\n",
    "\n",
    "llm = ChatOpenAI(model=\"gpt-3.5-turbo\")"
   ],
   "metadata": {
    "collapsed": false,
    "ExecuteTime": {
     "end_time": "2024-03-25T14:35:41.345636700Z",
     "start_time": "2024-03-25T14:35:40.732316Z"
    }
   },
   "id": "6587468c67f7fab9"
  },
  {
   "cell_type": "code",
   "execution_count": 13,
   "outputs": [],
   "source": [
    "from langchain.chains.combine_documents import create_stuff_documents_chain\n",
    "from langchain_core.prompts import ChatPromptTemplate\n",
    "\n",
    "prompt = ChatPromptTemplate.from_template(\"\"\"Answer the following question based only on the provided context:\n",
    "\n",
    "<context>\n",
    "{context}\n",
    "</context>\n",
    "\n",
    "Question: {input}\"\"\")\n",
    "\n",
    "document_chain = create_stuff_documents_chain(llm, prompt)"
   ],
   "metadata": {
    "collapsed": false,
    "ExecuteTime": {
     "end_time": "2024-03-25T14:35:43.634553400Z",
     "start_time": "2024-03-25T14:35:43.547029400Z"
    }
   },
   "id": "affbdf58bd611072"
  },
  {
   "cell_type": "code",
   "execution_count": 14,
   "outputs": [],
   "source": [
    "from langchain.chains import create_retrieval_chain\n",
    "\n",
    "retriever = db.as_retriever()\n",
    "retrieval_chain = create_retrieval_chain(retriever, document_chain)"
   ],
   "metadata": {
    "collapsed": false,
    "ExecuteTime": {
     "end_time": "2024-03-25T14:36:08.468366900Z",
     "start_time": "2024-03-25T14:36:08.451366300Z"
    }
   },
   "id": "7d3c72521b5f6283"
  },
  {
   "cell_type": "code",
   "execution_count": 15,
   "outputs": [
    {
     "name": "stdout",
     "output_type": "stream",
     "text": [
      "WTF Langchain 是一个极简入门教程，用于帮助初学者学习 Langchain 框架。它默认使用 Python 版本的 Langchain，LLM 使用 OpenAI 的模型。教程中提供了安装指令和示例代码，以帮助用户快速了解 Langchain 和 OpenAI 的关系，并创建第一个 Langchain 应用程序。\n"
     ]
    }
   ],
   "source": [
    "response = retrieval_chain.invoke({\"input\": \"什么是 WTF Langchain？\"})\n",
    "print(response[\"answer\"])\n",
    "\n",
    "# LangSmith offers several features that can help with testing:..."
   ],
   "metadata": {
    "collapsed": false,
    "ExecuteTime": {
     "end_time": "2024-03-25T14:37:57.477112900Z",
     "start_time": "2024-03-25T14:37:53.101113700Z"
    }
   },
   "id": "3a5726fda7120806"
  },
  {
   "cell_type": "markdown",
   "source": [
    "使用 chromabd\n",
    "\n",
    "```cmd\n",
    "conda install chromadb\n",
    "```\n",
    "\n",
    "安装 package 的详细版本信息\n",
    "onnxruntime-1.17.1"
   ],
   "metadata": {
    "collapsed": false
   },
   "id": "3c760e39f0c4f7cb"
  },
  {
   "cell_type": "code",
   "execution_count": null,
   "outputs": [],
   "source": [],
   "metadata": {
    "collapsed": false
   },
   "id": "cbe91a8ba20e9e81"
  }
 ],
 "metadata": {
  "kernelspec": {
   "display_name": "Python 3",
   "language": "python",
   "name": "python3"
  },
  "language_info": {
   "codemirror_mode": {
    "name": "ipython",
    "version": 2
   },
   "file_extension": ".py",
   "mimetype": "text/x-python",
   "name": "python",
   "nbconvert_exporter": "python",
   "pygments_lexer": "ipython2",
   "version": "2.7.6"
  }
 },
 "nbformat": 4,
 "nbformat_minor": 5
}
