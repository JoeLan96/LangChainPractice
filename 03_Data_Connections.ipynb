{
 "nbformat": 4,
 "nbformat_minor": 0,
 "metadata": {
  "colab": {
   "provenance": [],
   "authorship_tag": "ABX9TyOgQoOin53yoGqil3iR6M6W",
   "include_colab_link": true
  },
  "kernelspec": {
   "name": "python3",
   "language": "python",
   "display_name": "Python 3 (ipykernel)"
  },
  "language_info": {
   "name": "python"
  }
 },
 "cells": [
  {
   "cell_type": "markdown",
   "source": [
    "## 什么是数据连接？\n",
    "\n",
    "LLM应用往往需要用户特定的数据，而这些数据并不属于模型的训练集。`LangChain` 的数据连接概念，\n",
    "通过提供以下组件，实现用户数据的加载、转换、存储和查询：\n",
    "\n",
    "- 文档加载器：从不同的数据源加载文档\n",
    "- 文档转换器：拆分文档，将文档转换为问答格式，去除冗余文档，等等\n",
    "- 文本嵌入模型：将非结构化文本转换为浮点数数组表现形式，也称为向量\n",
    "- 向量存储：存储和搜索嵌入数据（向量）\n",
    "- 检索器：提供数据查询的通用接口\n",
    "\n",
    "我们通过下一段落的实践，来介绍这些组件的使用。\n",
    "\n",
    "## 数据连接实践\n",
    "\n",
    "在LLM应用连接用户数据时，通常我们会以如下步骤完成：\n",
    "1. 加载文档\n",
    "2. 拆分文档\n",
    "3. 向量化文档分块\n",
    "4. 向量数据存储"
   ],
   "metadata": {
    "collapsed": false
   }
  },
  {
   "cell_type": "markdown",
   "source": [
    "### 加载文档\n",
    "\n",
    "`Langchain` 提供了多种文档加载器，用于从不同的数据源加载不同类型的文档。\n",
    "比如，我们可以从本地文件系统加载文档，也可以通过网络加载远程数据。想了解 `Langchain` 所支持的所有文档加载器，\n",
    "请参考[Document Loaders](https://python.langchain.com/docs/integrations/document_loaders/)。\n",
    "\n",
    "在本节课程中，我们将使用最基本的 `TextLoader` 来加载本地文件系统中的文档。"
   ],
   "metadata": {
    "id": "C-W2t1v65-Gt"
   }
  },
  {
   "cell_type": "code",
   "source": [
    "from langchain.document_loaders import TextLoader\n",
    "\n",
    "loader = TextLoader(\"./LongText.md\", encoding=\"utf-8\")\n",
    "docs = loader.load()"
   ],
   "metadata": {
    "id": "e1_VoFqS5GJ4",
    "ExecuteTime": {
     "end_time": "2024-03-25T08:12:17.840090900Z",
     "start_time": "2024-03-25T08:12:17.814087100Z"
    }
   },
   "execution_count": 3,
   "outputs": []
  },
  {
   "cell_type": "markdown",
   "source": [
    "在上述代码中，我们使用 `TextLoader` 加载了本地文件系统中的 `./README.md` 文件。\n",
    "`TextLoader` 的 `load` 方法返回一个 `Document` 对象数组（`Document` 是 `Langchain` 提供的文档类，\n",
    "包含原始内容和元数据）。我们可以通过 `Document` 对象的 `content` 属性来访问文档的原始内容。"
   ],
   "metadata": {
    "collapsed": false
   }
  },
  {
   "cell_type": "code",
   "execution_count": 11,
   "outputs": [
    {
     "name": "stdout",
     "output_type": "stream",
     "text": [
      "<class 'list'>\n",
      "<class 'langchain.schema.document.Document'>\n",
      "['Config', '__abstractmethods__', '__annotations__', '__class__', '__class_vars__', '__config__', '__custom_root_type__', '__delattr__', '__dict__', '__dir__', '__doc__', '__eq__', '__exclude_fields__', '__fields__', '__fields_set__', '__format__', '__ge__', '__get_validators__', '__getattribute__', '__getstate__', '__gt__', '__hash__', '__include_fields__', '__init__', '__init_subclass__', '__iter__', '__json_encoder__', '__le__', '__lt__', '__module__', '__ne__', '__new__', '__post_root_validators__', '__pre_root_validators__', '__pretty__', '__private_attributes__', '__reduce__', '__reduce_ex__', '__repr__', '__repr_args__', '__repr_name__', '__repr_str__', '__rich_repr__', '__schema_cache__', '__setattr__', '__setstate__', '__signature__', '__sizeof__', '__slots__', '__str__', '__subclasshook__', '__try_update_forward_refs__', '__validators__', '_abc_impl', '_calculate_keys', '_copy_and_set_values', '_decompose_class', '_enforce_dict_if_root', '_get_value', '_init_private_attributes', '_iter', '_lc_kwargs', 'construct', 'copy', 'dict', 'from_orm', 'json', 'lc_attributes', 'lc_namespace', 'lc_secrets', 'lc_serializable', 'metadata', 'page_content', 'parse_file', 'parse_obj', 'parse_raw', 'schema', 'schema_json', 'to_json', 'to_json_not_implemented', 'update_forward_refs', 'validate']\n"
     ]
    }
   ],
   "source": [
    "print(type(docs))\n",
    "\n",
    "print(type(docs[0]))\n",
    "print(dir(docs[0]))"
   ],
   "metadata": {
    "collapsed": false,
    "ExecuteTime": {
     "end_time": "2024-03-25T08:28:23.380831900Z",
     "start_time": "2024-03-25T08:28:23.361308200Z"
    }
   }
  },
  {
   "cell_type": "code",
   "execution_count": 12,
   "outputs": [
    {
     "data": {
      "text/plain": "[Document(page_content='---\\ntitle: 01. Hello Langchain\\ntags:\\n  - openai\\n  - llm\\n  - langchain\\n---\\n\\n# WTF Langchain极简入门: 01. Hello Langchain\\n\\n最近在学习Langchain框架，顺手写一个“WTF Langchain极简入门”，供小白们使用（编程大佬可以另找教程）。本教程默认以下前提：\\n- 使用Python版本的[Langchain](https://github.com/hwchase17/langchain)\\n- LLM使用OpenAI的模型\\n- Langchain目前还处于快速发展阶段，版本迭代频繁，为避免示例代码失效，本教程统一使用版本 **0.0.235**\\n\\n根据Langchain的[代码约定](https://github.com/hwchase17/langchain/blob/v0.0.235/pyproject.toml#L14C1-L14C24)，Python版本 \">=3.8.1,<4.0\"。\\n\\n推特：[@verysmallwoods](https://twitter.com/verysmallwoods)\\n\\n所有代码和教程开源在github: [github.com/sugarforever/wtf-langchain](https://github.com/sugarforever/wtf-langchain)\\n\\n-----\\n\\n## Langchain 简介\\n\\n大型语言模型（LLM）正在成为一种具有变革性的技术，使开发人员能够构建以前无法实现的应用程序。然而，仅仅依靠LLM还不足以创建一个真正强大的应用程序。它还需要其他计算资源或知识来源。\\n\\n`Langchain` 旨在帮助开发这些类型应用程序，比如：\\n- 基于文档数据的问答\\n- 聊天机器人\\n- 代理\\n\\n## OpenAI 简介\\n\\n`OpenAI` 是LLM生态的模型层最大的玩家之一。大家目前熟知的 *GPT-3.5*，*GPT-4* 等模型都是OpenAI的产品。它的API允许开发人员通过简单的API调用来访问这些模型。\\n\\n## Langchain与OpenAI\\n\\n`Langchain` 作为一个开源框架，提供与OpenAI等语言模型的接口，简化了在应用程序中集成和利用语言模型能力的过程。\\n\\n## 开发前的准备\\n\\n在开始第一个Langchain应用程序之前，我们需要做一些必要的准备。\\n\\n### Google Colab\\n\\n本教程中，我们将使用 `Google Colab` 在云端运行 `Python` 代码。Google Colab（全称Google Colaboratory）是一个由Google提供的云端开发环境，用于数据分析、机器学习和深度学习任务。它基于Jupyter Notebook，提供了一个免费的、云端的Python编程环境，用户可以直接在浏览器中编写和执行Python代码。\\n\\n网址：[https://colab.research.google.com/](https://colab.research.google.com/)\\n\\n![Google Colab](./google_colab.png)\\n\\n无法使用Google Colab的同学，可以使用Visual Studio Code配合Jupyter插件在本地运行代码。\\n\\n### OpenAI API Key\\n\\n在Langchain应用中使用OpenAI的模型，我们需要一个API Key。点击[https://platform.openai.com/account/api-keys](https://platform.openai.com/account/api-keys)创建你的API Key。\\n\\n## 第一个 Langchain 应用\\n\\n这个简单的程序只有 1 行安装指令和 7 行代码：\\n\\n### 安装指令\\n\\n```shell\\npip install langchain==0.0.235 openai==0.28.2\\n```\\n\\n### 代码\\n\\n[Hello_Langchain.ipynb](./Hello_Langchain.ipynb)\\n\\n```python\\nfrom langchain.chat_models import ChatOpenAI\\nfrom langchain.schema import HumanMessage\\n\\nimport os\\nos.environ[\\'OPENAI_API_KEY\\'] = \\'您的有效OpenAI API Key\\'\\n\\nchat = ChatOpenAI(temperature=0, model_name=\"gpt-3.5-turbo\")\\nresponse = chat([ HumanMessage(content=\"Hello Langchain!\") ])\\nprint(response)\\n```\\n\\n你应该能看到类似这样的输出：\\n\\n```shell\\ncontent=\\'Hello! How can I assist you today?\\' additional_kwargs={} example=False\\n```\\n\\n我们拆解程序，学习该代码的结构：\\n\\n1. 以下系统命令安装必要的Python包，langchain和openai。\\n\\n  ```shell\\n  pip install langchain==0.0.235 openai\\n  ```\\n\\n2. 以下代码将OpenAI的API Key设置在环境变量中。默认情况下，Langchain会从环境变量 `OPENAI_API_KEY` 中读取API Key。注意，在代码中直接嵌入API Key明文并不安全，切勿将API Key直接提交到代码仓库。我们建议利用.env文件和python-dotenv包来管理API Key。\\n\\n  ```python\\n  import os\\n  os.environ[\\'OPENAI_API_KEY\\'] = \\'您的有效OpenAI API Key\\'\\n  ```\\n    \\n3. 以下代码导入了 `ChatOpenAI` 类，该类封装了OpenAI的聊天模型。`ChatOpenAI` 类的初始化参数 `temperature` 用于控制模型的生成文本的多样性。`temperature` 越大，生成的文本越多样，但也越不可控。`temperature` 越小，生成的文本越单一，但也越可控。`temperature` 的取值范围为 0 到 1，默认值为 0.5。初始化参数 `model_name` 用于指定使用的模型，默认值为 `gpt-3.5-turbo`。\\n\\n  ```python\\n  chat = ChatOpenAI(temperature=0, model_name=\"gpt-3.5-turbo\")\\n  ```\\n\\n4. 以下代码完成与OpenAI GPT模型的第一次对话，并打印出响应。\\n\\n  ```python\\n  response = chat([ HumanMessage(content=\"Hello Langchain!\") ])\\n  print(response)\\n  ```\\n\\n## 运行代码\\n\\n在 Google Colab 的页面，在每一个代码块，按 Ctrl/Cmd + Enter 即可运行代码，非常方便。\\n\\n![](./hello_langchain.png)\\n\\n## 总结\\n本节课程中，我们简要介绍了 `Langchain`，`OpenAI` 以及它们的关系，并完成了第一个 `Langchain` 应用 —— `Hello Langchain`。\\n\\n### 相关文档资料链接：\\n1. [Python Langchain官方文档](https://python.langchain.com/docs/get_started/introduction.html) ', metadata={'source': './LongText.md'})]"
     },
     "execution_count": 12,
     "metadata": {},
     "output_type": "execute_result"
    }
   ],
   "source": [
    "docs"
   ],
   "metadata": {
    "collapsed": false,
    "ExecuteTime": {
     "end_time": "2024-03-25T08:28:36.441289200Z",
     "start_time": "2024-03-25T08:28:36.430289Z"
    }
   }
  },
  {
   "cell_type": "markdown",
   "source": [
    "### 拆分文档\n",
    "\n",
    "拆分文档是文档转换中最常见的操作。拆分文档的目的是将文档拆分为更小的文档块，以便更好地利用模型。\n",
    "当我们要基于长篇文本构建QA应用时，必须将文本分割成块，这样才能在数据查询中，基于相似性找到与问题最接近的文本块。\n",
    "这也是常见的AI问答机器人的工作原理。\n",
    "\n",
    "`Langchain` 提供了多种文档拆分器，用于将文档拆分为更小的文档块。我们逐个看看这些拆分器的使用方法。"
   ],
   "metadata": {
    "id": "kRPF6Mfn6Ake"
   }
  },
  {
   "cell_type": "markdown",
   "source": [
    "#### 按字符拆分\n",
    "\n",
    "`CharacterTextSplitter` 是最简单的文档拆分器，它将文档拆分为固定长度的文本块。代码如下："
   ],
   "metadata": {
    "id": "FakX37SB6DT4"
   }
  },
  {
   "cell_type": "code",
   "source": [
    "from langchain.text_splitter import CharacterTextSplitter\n",
    "text_splitter = CharacterTextSplitter(\n",
    "    separator = \"\\n\\n\",\n",
    "    chunk_size = 1000,\n",
    "    chunk_overlap  = 200,\n",
    "    length_function = len,\n",
    ")\n",
    "\n",
    "split_docs = text_splitter.split_documents(docs)\n",
    "print(len(docs[0].page_content))\n",
    "print(len(split_docs))\n",
    "\n",
    "sum = 0\n",
    "for split_doc in split_docs:\n",
    "    cal = len(split_doc.page_content)\n",
    "    print(cal)\n",
    "    sum += cal\n",
    "print(\"sum = \", sum)"
   ],
   "metadata": {
    "id": "0gm-A-_r5Wfb",
    "ExecuteTime": {
     "end_time": "2024-03-25T08:32:34.039881Z",
     "start_time": "2024-03-25T08:32:34.010881800Z"
    }
   },
   "execution_count": 15,
   "outputs": [
    {
     "name": "stdout",
     "output_type": "stream",
     "text": [
      "3324\n",
      "5\n",
      "996\n",
      "971\n",
      "872\n",
      "913\n",
      "296\n",
      "sum =  4048\n"
     ]
    }
   ]
  },
  {
   "cell_type": "markdown",
   "source": [
    "#### 拆分代码\n",
    "\n",
    "`RecursiveCharacterTextSplitter` 的 `from_language` 函数，可以根据编程语言的特性，\n",
    "将代码拆分为合适的文本块。代码如下："
   ],
   "metadata": {
    "id": "8avQDR6u6HCP"
   }
  },
  {
   "cell_type": "code",
   "source": [
    "from langchain.text_splitter import RecursiveCharacterTextSplitter, Language\n",
    "\n",
    "PYTHON_CODE = \"\"\"\n",
    "def hello_langchain():\n",
    "    print(\"Hello, Langchain!\")\n",
    "\n",
    "# Call the function\n",
    "hello_langchain()\n",
    "\"\"\"\n",
    "python_splitter = RecursiveCharacterTextSplitter.from_language(\n",
    "    language=Language.PYTHON, chunk_size=50, chunk_overlap=0\n",
    ")\n",
    "python_docs = python_splitter.create_documents([PYTHON_CODE])\n",
    "python_docs"
   ],
   "metadata": {
    "id": "OlNC7pR15Z0r",
    "ExecuteTime": {
     "end_time": "2024-03-25T08:49:52.217226300Z",
     "start_time": "2024-03-25T08:49:52.184542300Z"
    }
   },
   "execution_count": 16,
   "outputs": [
    {
     "data": {
      "text/plain": "[Document(page_content='def hello_langchain():', metadata={}),\n Document(page_content='print(\"Hello, Langchain!\")', metadata={}),\n Document(page_content='# Call the function\\nhello_langchain()', metadata={})]"
     },
     "execution_count": 16,
     "metadata": {},
     "output_type": "execute_result"
    }
   ]
  },
  {
   "cell_type": "markdown",
   "source": [
    "#### Markdown文档拆分\n",
    "\n",
    "`MarkdownHeaderTextSplitter` 可以将Markdown文档按照段落结构，基于Markdown语法进行文档分块。代码如下："
   ],
   "metadata": {
    "id": "O_wWWlWS6JkO"
   }
  },
  {
   "cell_type": "code",
   "source": [
    "from langchain.text_splitter import MarkdownHeaderTextSplitter\n",
    "\n",
    "markdown_document = \"# Chapter 1\\n\\n    ## Section 1\\n\\nHi this is the 1st section\\n\\nWelcome\\n\\n ### Module 1 \\n\\n Hi this is the first module \\n\\n ## Section 2\\n\\n Hi this is the 2nd section\"\n",
    "\n",
    "headers_to_split_on = [\n",
    "    (\"#\", \"Header 1\"),\n",
    "    (\"##\", \"Header 2\"),\n",
    "    (\"###\", \"Header 3\"),\n",
    "]\n",
    "\n",
    "splitter = MarkdownHeaderTextSplitter(headers_to_split_on=headers_to_split_on)\n",
    "splits = splitter.split_text(markdown_document)\n",
    "\n",
    "splits"
   ],
   "metadata": {
    "id": "Gg6twioR5cX8",
    "ExecuteTime": {
     "end_time": "2024-03-25T08:50:00.753601700Z",
     "start_time": "2024-03-25T08:50:00.723597800Z"
    }
   },
   "execution_count": 17,
   "outputs": [
    {
     "data": {
      "text/plain": "[Document(page_content='Hi this is the 1st section  \\nWelcome', metadata={'Header 1': 'Chapter 1', 'Header 2': 'Section 1'}),\n Document(page_content='Hi this is the first module', metadata={'Header 1': 'Chapter 1', 'Header 2': 'Section 1', 'Header 3': 'Module 1'}),\n Document(page_content='Hi this is the 2nd section', metadata={'Header 1': 'Chapter 1', 'Header 2': 'Section 2'})]"
     },
     "execution_count": 17,
     "metadata": {},
     "output_type": "execute_result"
    }
   ]
  },
  {
   "cell_type": "markdown",
   "source": [
    "#### 按字符递归拆分\n",
    "\n",
    "这也是对于普通文本的推荐拆分方式。它通过一组字符作为参数，按顺序尝试使用这些字符进行拆分，直到块的大小足够小为止。\n",
    "默认的字符列表是[\"\\n\\n\", \"\\n\", \" \", \"\"]。它尽可能地保持段落，句子，单词的完整，因此尽可能地保证语义完整。"
   ],
   "metadata": {
    "id": "Spo_Nn036Oko"
   }
  },
  {
   "cell_type": "code",
   "source": [
    "from langchain.text_splitter import RecursiveCharacterTextSplitter\n",
    "text_splitter = RecursiveCharacterTextSplitter(\n",
    "    chunk_size = 100,\n",
    "    chunk_overlap  = 20,\n",
    "    length_function = len,\n",
    ")\n",
    "texts = text_splitter.split_documents(docs)\n",
    "print(len(docs[0].page_content))\n",
    "for split_doc in texts:\n",
    "  print(len(split_doc.page_content))"
   ],
   "metadata": {
    "id": "RLxIWV3G5nSh",
    "ExecuteTime": {
     "end_time": "2024-03-25T08:50:08.868069500Z",
     "start_time": "2024-03-25T08:50:08.862069100Z"
    }
   },
   "execution_count": 18,
   "outputs": [
    {
     "name": "stdout",
     "output_type": "stream",
     "text": [
      "3324\n",
      "73\n",
      "40\n",
      "71\n",
      "81\n",
      "78\n",
      "99\n",
      "30\n",
      "15\n",
      "56\n",
      "17\n",
      "86\n",
      "22\n",
      "91\n",
      "69\n",
      "97\n",
      "95\n",
      "64\n",
      "65\n",
      "77\n",
      "57\n",
      "75\n",
      "98\n",
      "18\n",
      "34\n",
      "99\n",
      "26\n",
      "4\n",
      "56\n",
      "76\n",
      "56\n",
      "96\n",
      "61\n",
      "60\n",
      "81\n",
      "14\n",
      "92\n",
      "57\n",
      "54\n",
      "95\n",
      "87\n",
      "81\n",
      "77\n",
      "76\n",
      "87\n",
      "31\n",
      "78\n",
      "36\n",
      "91\n",
      "21\n",
      "95\n",
      "93\n",
      "13\n",
      "90\n"
     ]
    }
   ]
  },
  {
   "cell_type": "markdown",
   "source": [
    "#### 按token拆分\n",
    "\n",
    "语言模型，例如OpenAI，有token限制。在API调用中，不应超过token限制。\n",
    "看来，在将文本分块时，根据token数来拆分也是不错的主意。有许多令牌化工具，因此当计算文本的token数时，\n",
    "应该使用与语言模型相同的令牌化工具。\n",
    "\n",
    "注，OpenAI所使用的是[tiktoken](https://github.com/openai/tiktoken)。"
   ],
   "metadata": {
    "id": "iH_AHoif6SVQ"
   }
  },
  {
   "cell_type": "code",
   "source": [
    "# !pip install -q tiktoken"
   ],
   "metadata": {
    "id": "L0zcXo2y8urg",
    "ExecuteTime": {
     "end_time": "2024-03-25T09:04:36.393581100Z",
     "start_time": "2024-03-25T08:54:45.342014600Z"
    }
   },
   "execution_count": 20,
   "outputs": [
    {
     "name": "stdout",
     "output_type": "stream",
     "text": [
      "^C\n"
     ]
    }
   ]
  },
  {
   "cell_type": "code",
   "source": [
    "import os\n",
    "os.environ['HTTPS_PROXY'] = 'http://127.0.0.1:7890'\n",
    "os.environ[\"HTTP_PROXY\"] = 'http://127.0.0.1:7890'\n",
    "\n",
    "from langchain.text_splitter import CharacterTextSplitter\n",
    "text_splitter = CharacterTextSplitter.from_tiktoken_encoder(\n",
    "    chunk_size=100, chunk_overlap=0\n",
    ")\n",
    "split_docs = text_splitter.split_documents(docs)\n",
    "\n",
    "print(len(split_docs))\n",
    "split_docs"
   ],
   "metadata": {
    "id": "WGg-ZOaq5pzl",
    "ExecuteTime": {
     "end_time": "2024-03-25T11:09:36.802600300Z",
     "start_time": "2024-03-25T11:09:36.755043600Z"
    }
   },
   "execution_count": 25,
   "outputs": [
    {
     "name": "stderr",
     "output_type": "stream",
     "text": [
      "Created a chunk of size 258, which is longer than the specified 100\n",
      "Created a chunk of size 188, which is longer than the specified 100\n",
      "Created a chunk of size 136, which is longer than the specified 100\n",
      "Created a chunk of size 111, which is longer than the specified 100\n",
      "Created a chunk of size 231, which is longer than the specified 100\n",
      "Created a chunk of size 194, which is longer than the specified 100\n",
      "Created a chunk of size 342, which is longer than the specified 100\n"
     ]
    },
    {
     "name": "stdout",
     "output_type": "stream",
     "text": [
      "26\n"
     ]
    },
    {
     "data": {
      "text/plain": "[Document(page_content='---\\ntitle: 01. Hello Langchain\\ntags:\\n  - openai\\n  - llm\\n  - langchain\\n---\\n\\n# WTF Langchain极简入门: 01. Hello Langchain', metadata={'source': './LongText.md'}),\n Document(page_content='最近在学习Langchain框架，顺手写一个“WTF Langchain极简入门”，供小白们使用（编程大佬可以另找教程）。本教程默认以下前提：\\n- 使用Python版本的[Langchain](https://github.com/hwchase17/langchain)\\n- LLM使用OpenAI的模型\\n- Langchain目前还处于快速发展阶段，版本迭代频繁，为避免示例代码失效，本教程统一使用版本 **0.0.235**', metadata={'source': './LongText.md'}),\n Document(page_content='根据Langchain的[代码约定](https://github.com/hwchase17/langchain/blob/v0.0.235/pyproject.toml#L14C1-L14C24)，Python版本 \">=3.8.1,<4.0\"。', metadata={'source': './LongText.md'}),\n Document(page_content='推特：[@verysmallwoods](https://twitter.com/verysmallwoods)\\n\\n所有代码和教程开源在github: [github.com/sugarforever/wtf-langchain](https://github.com/sugarforever/wtf-langchain)\\n\\n-----\\n\\n## Langchain 简介', metadata={'source': './LongText.md'}),\n Document(page_content='大型语言模型（LLM）正在成为一种具有变革性的技术，使开发人员能够构建以前无法实现的应用程序。然而，仅仅依靠LLM还不足以创建一个真正强大的应用程序。它还需要其他计算资源或知识来源。', metadata={'source': './LongText.md'}),\n Document(page_content='`Langchain` 旨在帮助开发这些类型应用程序，比如：\\n- 基于文档数据的问答\\n- 聊天机器人\\n- 代理\\n\\n## OpenAI 简介', metadata={'source': './LongText.md'}),\n Document(page_content='`OpenAI` 是LLM生态的模型层最大的玩家之一。大家目前熟知的 *GPT-3.5*，*GPT-4* 等模型都是OpenAI的产品。它的API允许开发人员通过简单的API调用来访问这些模型。', metadata={'source': './LongText.md'}),\n Document(page_content='## Langchain与OpenAI', metadata={'source': './LongText.md'}),\n Document(page_content='`Langchain` 作为一个开源框架，提供与OpenAI等语言模型的接口，简化了在应用程序中集成和利用语言模型能力的过程。', metadata={'source': './LongText.md'}),\n Document(page_content='## 开发前的准备\\n\\n在开始第一个Langchain应用程序之前，我们需要做一些必要的准备。\\n\\n### Google Colab', metadata={'source': './LongText.md'}),\n Document(page_content='本教程中，我们将使用 `Google Colab` 在云端运行 `Python` 代码。Google Colab（全称Google Colaboratory）是一个由Google提供的云端开发环境，用于数据分析、机器学习和深度学习任务。它基于Jupyter Notebook，提供了一个免费的、云端的Python编程环境，用户可以直接在浏览器中编写和执行Python代码。', metadata={'source': './LongText.md'}),\n Document(page_content='网址：[https://colab.research.google.com/](https://colab.research.google.com/)\\n\\n![Google Colab](./google_colab.png)', metadata={'source': './LongText.md'}),\n Document(page_content='无法使用Google Colab的同学，可以使用Visual Studio Code配合Jupyter插件在本地运行代码。\\n\\n### OpenAI API Key', metadata={'source': './LongText.md'}),\n Document(page_content='在Langchain应用中使用OpenAI的模型，我们需要一个API Key。点击[https://platform.openai.com/account/api-keys](https://platform.openai.com/account/api-keys)创建你的API Key。', metadata={'source': './LongText.md'}),\n Document(page_content='## 第一个 Langchain 应用\\n\\n这个简单的程序只有 1 行安装指令和 7 行代码：\\n\\n### 安装指令\\n\\n```shell\\npip install langchain==0.0.235 openai==0.28.2\\n```', metadata={'source': './LongText.md'}),\n Document(page_content=\"### 代码\\n\\n[Hello_Langchain.ipynb](./Hello_Langchain.ipynb)\\n\\n```python\\nfrom langchain.chat_models import ChatOpenAI\\nfrom langchain.schema import HumanMessage\\n\\nimport os\\nos.environ['OPENAI_API_KEY'] = '您的有效OpenAI API Key'\", metadata={'source': './LongText.md'}),\n Document(page_content='chat = ChatOpenAI(temperature=0, model_name=\"gpt-3.5-turbo\")\\nresponse = chat([ HumanMessage(content=\"Hello Langchain!\") ])\\nprint(response)\\n```\\n\\n你应该能看到类似这样的输出：', metadata={'source': './LongText.md'}),\n Document(page_content=\"```shell\\ncontent='Hello! How can I assist you today?' additional_kwargs={} example=False\\n```\\n\\n我们拆解程序，学习该代码的结构：\", metadata={'source': './LongText.md'}),\n Document(page_content='1. 以下系统命令安装必要的Python包，langchain和openai。\\n\\n  ```shell\\n  pip install langchain==0.0.235 openai\\n  ```', metadata={'source': './LongText.md'}),\n Document(page_content='2. 以下代码将OpenAI的API Key设置在环境变量中。默认情况下，Langchain会从环境变量 `OPENAI_API_KEY` 中读取API Key。注意，在代码中直接嵌入API Key明文并不安全，切勿将API Key直接提交到代码仓库。我们建议利用.env文件和python-dotenv包来管理API Key。', metadata={'source': './LongText.md'}),\n Document(page_content=\"```python\\n  import os\\n  os.environ['OPENAI_API_KEY'] = '您的有效OpenAI API Key'\\n  ```\\n    \\n3. 以下代码导入了 `ChatOpenAI` 类，该类封装了OpenAI的聊天模型。`ChatOpenAI` 类的初始化参数 `temperature` 用于控制模型的生成文本的多样性。`temperature` 越大，生成的文本越多样，但也越不可控。`temperature` 越小，生成的文本越单一，但也越可控。`temperature` 的取值范围为 0 到 1，默认值为 0.5。初始化参数 `model_name` 用于指定使用的模型，默认值为 `gpt-3.5-turbo`。\", metadata={'source': './LongText.md'}),\n Document(page_content='```python\\n  chat = ChatOpenAI(temperature=0, model_name=\"gpt-3.5-turbo\")\\n  ```\\n\\n4. 以下代码完成与OpenAI GPT模型的第一次对话，并打印出响应。', metadata={'source': './LongText.md'}),\n Document(page_content='```python\\n  response = chat([ HumanMessage(content=\"Hello Langchain!\") ])\\n  print(response)\\n  ```\\n\\n## 运行代码', metadata={'source': './LongText.md'}),\n Document(page_content='在 Google Colab 的页面，在每一个代码块，按 Ctrl/Cmd + Enter 即可运行代码，非常方便。\\n\\n![](./hello_langchain.png)', metadata={'source': './LongText.md'}),\n Document(page_content='## 总结\\n本节课程中，我们简要介绍了 `Langchain`，`OpenAI` 以及它们的关系，并完成了第一个 `Langchain` 应用 —— `Hello Langchain`。', metadata={'source': './LongText.md'}),\n Document(page_content='### 相关文档资料链接：\\n1. [Python Langchain官方文档](https://python.langchain.com/docs/get_started/introduction.html)', metadata={'source': './LongText.md'})]"
     },
     "execution_count": 25,
     "metadata": {},
     "output_type": "execute_result"
    }
   ]
  },
  {
   "cell_type": "markdown",
   "source": [
    "## 向量化文档分块\n",
    "\n",
    "`Langchain` 的 `Embeddings` 类实现与文本嵌入模型进行交互的标准接口。\n",
    "当前市场上有许多嵌入模型提供者（如OpenAI、Cohere、Hugging Face等）。\n",
    "\n",
    "嵌入模型创建文本片段的向量表示。这意味着我们可以在向量空间中处理文本，并进行语义搜索等操作，\n",
    "从而查找在向量空间中最相似的文本片段。\n",
    "\n",
    "注，文本之间的相似度由其向量表示的欧几里得距离来衡量。欧几里得距离是最常见的距离度量方式，也称为L2范数。\n",
    "对于两个n维向量a和b，欧几里得距离可以通过以下公式计算：\n",
    "\n",
    "```math\n",
    "d(a, b) = √((a₁ - b₁)² + (a₂ - b₂)² + ... + (aₙ - bₙ)²)\n",
    "```\n",
    "\n",
    "当使用OpenAI的文本嵌入模型时，我们使用如下代码来创建文本片段的向量表示："
   ],
   "metadata": {
    "id": "d8dfw22O6Vb2"
   }
  },
  {
   "cell_type": "code",
   "source": [
    "import openai\n",
    "from langchain.embeddings import OpenAIEmbeddings\n",
    "from dotenv import find_dotenv, load_dotenv\n",
    "# 如果你设置的是全局的环境变量，这行代码则没有任何作用。\n",
    "_ = load_dotenv(find_dotenv()) # read local .env file\n",
    "openai.api_key = os.environ['OPENAI_API_KEY']\n",
    "\n",
    "embeddings_model = OpenAIEmbeddings()\n",
    "embeddings = embeddings_model.embed_documents(\n",
    "    [\n",
    "        \"你好!\",\n",
    "        \"Langchain!\",\n",
    "        \"你真棒！\"\n",
    "    ]\n",
    ")\n",
    "embeddings"
   ],
   "metadata": {
    "id": "AghMYu8r5zBW",
    "ExecuteTime": {
     "end_time": "2024-03-25T11:35:14.712270200Z",
     "start_time": "2024-03-25T11:35:13.505424600Z"
    }
   },
   "execution_count": 27,
   "outputs": [
    {
     "data": {
      "text/plain": "[[0.0018379163522136942,\n  -0.01672440793886407,\n  0.009549586254241358,\n  -0.02442976126184427,\n  -0.04936479110548523,\n  0.011463293056706009,\n  -0.008261149880543663,\n  -0.010825391099658655,\n  -0.01813916145801094,\n  -0.013023311479383941,\n  0.03410566652417998,\n  0.0024679238369164458,\n  -0.006492707981610077,\n  -0.008930632055275898,\n  -0.008002199359843825,\n  -0.022509739160900714,\n  0.0285729677303965,\n  -0.019414965372105648,\n  0.011867508480936912,\n  -0.020501293568026595,\n  -0.004433736275614362,\n  0.00697902973664746,\n  -0.0001944101853946825,\n  0.005248482888216368,\n  -0.004819004407424666,\n  -0.0009418532285687037,\n  0.004389525460971669,\n  -0.013263314242001887,\n  0.007149558162400619,\n  -0.030189829427320115,\n  0.03269091300503311,\n  0.007616931693694814,\n  -0.01811389840145014,\n  0.001656335339215186,\n  0.01380647833996236,\n  -0.01844232186203088,\n  -0.007496930312385842,\n  -0.0012244881558325996,\n  0.0204255043983442,\n  0.0054411167212908736,\n  0.015195968802548431,\n  0.005179008551351583,\n  0.009682219629492025,\n  0.0016926515650979523,\n  -0.010496965776432736,\n  0.009467479923434878,\n  7.500088514598082e-05,\n  -0.01906127699231893,\n  -0.014640172244984966,\n  0.026981370952678864,\n  0.020614980116517957,\n  -0.0024884504196180652,\n  -0.01858127146708304,\n  -0.013541212520783618,\n  -0.007105346882096632,\n  -0.00023684489509976004,\n  -0.014198062235912865,\n  0.026678208686013744,\n  -0.02614767704765626,\n  -0.03817308009775946,\n  0.007585352407332521,\n  0.022838164484126632,\n  -0.01925075271049269,\n  0.026956107896118065,\n  -0.013326472814726473,\n  0.0035147783905458236,\n  0.018846538217584374,\n  0.007193768977043311,\n  0.011122236205199691,\n  0.015600184226779334,\n  -0.006631657121000944,\n  0.011014866817832413,\n  0.003303196799389425,\n  -0.006821132839174701,\n  0.02948245266774668,\n  0.00156554477450827,\n  -0.03549515512412087,\n  0.015764396888392294,\n  -0.00845062559871742,\n  -0.013579107105624816,\n  0.009341162777985707,\n  -0.050956391608493225,\n  -0.006701131457865729,\n  0.025895042756757913,\n  0.018922329249911947,\n  -0.0018016002427462515,\n  -0.03152879377678459,\n  0.020703401745803342,\n  -0.014387537954086623,\n  -0.03698569967559531,\n  0.006625341356860744,\n  0.0014076482262814815,\n  0.009600113298685545,\n  0.029406661635419107,\n  -0.004916899915750997,\n  0.017078096318650787,\n  -0.007522193834607936,\n  0.027158214211249632,\n  -0.012878046575852876,\n  -0.0018300215306231208,\n  0.010351700872901671,\n  -0.013591739565227804,\n  -0.01797494879639798,\n  -0.01087591814410284,\n  -0.002084234995387162,\n  0.0073832451608783645,\n  0.0020716034671067625,\n  -0.009379058294149494,\n  0.028951921029389194,\n  -0.003360039607973811,\n  -0.031377211712129434,\n  0.023873966566925985,\n  -0.002314764111794807,\n  -0.02439186574568048,\n  0.006233757926571534,\n  -0.008400099485595823,\n  0.01244225186525968,\n  0.0005771120869136518,\n  0.005084270692264704,\n  -0.011179079479445372,\n  0.013869636912686946,\n  0.006846396361396795,\n  -0.010351700872901671,\n  -0.02258553019322829,\n  0.013503317004619831,\n  0.0008857998905018423,\n  -0.0028310860957441093,\n  -0.005283220289479408,\n  0.01121697406428657,\n  -0.0035810948453405093,\n  0.02811822712436659,\n  0.012688570857679118,\n  0.011456976826904514,\n  0.020513926027629584,\n  -0.025768725611308742,\n  0.01767178652973286,\n  -0.007623247923496309,\n  0.0005340852743204305,\n  -0.026021359902207084,\n  -0.012170669816279442,\n  0.00609796643642012,\n  0.03332249873227897,\n  0.008677996833054966,\n  -0.0031263526094960667,\n  0.01164645347640086,\n  0.015398076049002587,\n  -0.013920163957131134,\n  -0.016042294235851434,\n  -0.010939076716827428,\n  0.0066127093629190494,\n  0.0063379696646993595,\n  -0.012960152906659356,\n  0.03855203525939733,\n  0.034156192637301575,\n  0.01215172205819755,\n  0.011482240814787902,\n  -0.006006386692233989,\n  0.0015718606550637934,\n  -0.012890678104133276,\n  -0.008993790628000485,\n  -0.008021147117925717,\n  -0.011444345298624115,\n  0.009555902484042852,\n  -0.02137288298921299,\n  -0.003028456868339088,\n  0.030619308839434405,\n  0.017899157764070407,\n  0.007099031117956432,\n  0.008557995917407288,\n  -0.0036158320137729023,\n  0.014160166719749078,\n  -0.008551679687605793,\n  -0.037516233176597975,\n  0.001263172735060279,\n  -0.007155873926540819,\n  0.0017415994356764417,\n  0.012158038287999043,\n  -0.0061863885313668,\n  -0.013591739565227804,\n  -0.017469680214601293,\n  -0.02922981837684834,\n  0.00744640373360295,\n  0.02685505380722969,\n  0.006871659883618888,\n  -0.0008344835501631162,\n  -0.011513820101150195,\n  0.0003268459456334047,\n  -0.0021663413261936416,\n  0.014955966039930485,\n  -0.028648758762724075,\n  0.008456941828518914,\n  0.04274576597842598,\n  0.009625376355246344,\n  -0.015600184226779334,\n  -0.656041394176851,\n  -0.014400169482367022,\n  0.001100539247313017,\n  -0.007528509598748135,\n  0.006334811549798612,\n  0.026501365427442976,\n  0.008564311215886192,\n  0.034661461219098265,\n  -0.008930632055275898,\n  -0.002193183673035461,\n  -0.008330624683069743,\n  0.014273852336917851,\n  -0.008924315825474404,\n  -0.0004223733916531322,\n  0.00152449160910503,\n  -0.02166341279627512,\n  0.007970620073481531,\n  0.012631727583433438,\n  0.0023589751592681465,\n  -0.004815846292523919,\n  -0.010496965776432736,\n  0.024316076575998085,\n  -0.03024035740308689,\n  0.014387537954086623,\n  0.029002447142510792,\n  0.005090586456404904,\n  0.0023984492672210127,\n  -0.016800198971191647,\n  -0.017633892876214252,\n  0.015549657182335147,\n  -0.02965929778896263,\n  0.007566405114911922,\n  0.014488592042974997,\n  -0.0001788178952910018,\n  0.052952204741764354,\n  0.013263314242001887,\n  0.009776957488578904,\n  0.022206576894235594,\n  0.0046358439877298135,\n  0.03529304694634412,\n  -0.0025579249893134984,\n  -0.01630756098635277,\n  0.018214952490338512,\n  -0.013023311479383941,\n  0.02120867032760003,\n  -0.015701238315667707,\n  0.005055849055141864,\n  0.005839016381381577,\n  0.004904268387470598,\n  -0.005068481049083557,\n  -0.004294787601884791,\n  -0.0025689776929741716,\n  0.0034231981806983973,\n  0.016054926695454424,\n  -0.0035053045115048765,\n  -0.0052769045253392086,\n  0.026829790750668894,\n  -0.02565503906281738,\n  0.015764396888392294,\n  0.007440087503801456,\n  0.006713763451807422,\n  0.006442181402827186,\n  -0.01784863165094881,\n  -0.01936443925898405,\n  -0.022964481629575803,\n  0.01036433240118207,\n  -0.027890855890029043,\n  -0.00919589787445464,\n  -0.003666359058217089,\n  -0.008431678771958115,\n  -0.014261220808637452,\n  -0.007888513742675051,\n  -0.0053274311041221,\n  -0.008981158168397495,\n  0.017292835093385344,\n  0.036328849029143476,\n  0.01903601393575813,\n  -0.0022042366095267815,\n  -0.009183266346174243,\n  0.014109639675304892,\n  0.0037074122236203286,\n  -0.002837401859884309,\n  0.008393783255794329,\n  0.001271857085376039,\n  0.010105381880482232,\n  -0.03041720066165766,\n  -0.014147535191468679,\n  -0.00038250451933767257,\n  0.0213097244164884,\n  0.007484298784105442,\n  0.025743460692102763,\n  0.003754781153163768,\n  0.0276634846556915,\n  -0.02261079324978909,\n  -0.020488662971068786,\n  0.006960081978565567,\n  -0.03147826766366299,\n  -0.0043611042895101235,\n  0.015435971565166375,\n  -0.01306120699554773,\n  0.013541212520783618,\n  -0.01290962586221517,\n  0.008911684297194005,\n  0.0005368484502355988,\n  -0.01175382286376814,\n  0.01336436833089026,\n  -0.016635986309578688,\n  0.02948245266774668,\n  0.02624873113654463,\n  -0.006000070928093789,\n  -0.0005522433290541519,\n  -0.002218447195257554,\n  -0.007459035261883349,\n  0.010181172912809807,\n  0.01597913566312685,\n  -0.020703401745803342,\n  -0.003978994272600566,\n  0.02470766047194859,\n  0.023431854695208705,\n  -0.01994549887310831,\n  0.008084305690650304,\n  0.006439023287926438,\n  0.020374976422577424,\n  0.009972749436554155,\n  0.011703295819323953,\n  0.02738558544558718,\n  -0.01443806499853081,\n  0.0032589857519160852,\n  -0.03905730384119402,\n  0.0036789908193281353,\n  -0.0018142318874419744,\n  0.005305325696800755,\n  0.005172692787211383,\n  -0.02026129173673124,\n  0.024063442285099743,\n  -0.01251172666778576,\n  0.00776219659722588,\n  -0.013099101580388928,\n  0.012682254627877624,\n  0.010869601914301348,\n  0.00652428726797237,\n  0.01752020632772289,\n  0.006789553552812408,\n  -0.0115075038713487,\n  0.007503246542187337,\n  -0.007250611785627698,\n  -0.015802292404556082,\n  -0.014703330817709553,\n  -0.018353900232745496,\n  -0.00045276850134296864,\n  -0.003786360439526061,\n  0.01274541320060221,\n  -0.0069979770290680594,\n  0.012833835761210183,\n  0.018732851669093012,\n  0.0063127061424772665,\n  0.00433584076728803,\n  -0.01413490366318828,\n  -0.006104282666221615,\n  -0.027259268300138004,\n  0.016206506897464393,\n  0.02043813499530201,\n  -0.010149593626447514,\n  -0.0006564551253896394,\n  -0.01688862060047703,\n  -0.03478777836454743,\n  0.0027584536439785767,\n  0.015486498609610561,\n  -0.020362345825619615,\n  -0.04016889323103059,\n  0.010181172912809807,\n  -0.023848701647720006,\n  -0.014400169482367022,\n  -0.00706113606745394,\n  -0.000741719280058557,\n  -0.017254939577221556,\n  -0.005510591523816954,\n  -0.01779810553782721,\n  0.012214880630922135,\n  -0.032463539908050384,\n  0.015145441758104243,\n  -0.022775005911402045,\n  -0.0005668487955628418,\n  -0.0001122052726369205,\n  0.018189687571132537,\n  0.00018602193745469842,\n  0.014943334511650086,\n  0.033575133023177314,\n  -0.03367618524942051,\n  0.0040705744824479926,\n  0.021132881157917633,\n  0.022471843644736925,\n  -0.04383209417434693,\n  -0.003555831323118416,\n  -0.010370648630983565,\n  -0.010136962098167114,\n  -0.000237239644910438,\n  0.015398076049002587,\n  0.030139303314198517,\n  0.01765915593277505,\n  0.007604300165414415,\n  -0.0042505763215808035,\n  0.0017810736600446316,\n  -0.004945321552873838,\n  -0.007256927549767898,\n  -0.015890714033841465,\n  -0.004724266082676493,\n  -0.017179150407539163,\n  0.015941240146963062,\n  0.0085201004012435,\n  -0.004752687719799333,\n  0.0007669827440729885,\n  -0.007010609023009753,\n  0.004193733512996417,\n  -0.004774793127120679,\n  0.02290132305685122,\n  -0.006268494862173279,\n  -0.016964409770159426,\n  0.005693751477850511,\n  0.0043958412251118685,\n  0.001795284362190728,\n  -0.008848525724469418,\n  -0.007427455975521057,\n  -0.006233757926571534,\n  -0.02624873113654463,\n  0.013478053948059033,\n  0.016067557292412233,\n  0.028042436092039012,\n  0.002524766645500832,\n  -0.0034263562955991443,\n  -0.031907745213132103,\n  0.014147535191468679,\n  0.003947414986238273,\n  0.0034168824165581976,\n  -0.003167405774899306,\n  -0.03597516251200194,\n  0.020337082769058816,\n  -0.01135592366933873,\n  0.024328707172955898,\n  -0.0035368837978671697,\n  0.0037642547993740677,\n  0.009404321350710293,\n  0.020084446615515294,\n  -0.020665506229639554,\n  0.00020181159518776036,\n  0.03226143173027364,\n  0.01794968573983718,\n  0.01158961020215518,\n  -0.00587059566774387,\n  0.04688897430962339,\n  -0.008223255295702465,\n  -0.002292658704473461,\n  -0.017406521641876706,\n  -0.0165980907934149,\n  0.023495013267933292,\n  -0.025478195804246612,\n  0.00776219659722588,\n  0.017861264110551795,\n  0.006877975647759087,\n  0.029760350015205824,\n  -0.003846361130180547,\n  0.022193946297277785,\n  -0.013503317004619831,\n  0.0011621189954178768,\n  0.014425433470250411,\n  0.018707588612532213,\n  0.009865379117864288,\n  -0.02993719513642177,\n  -0.003991625800880965,\n  0.016635986309578688,\n  -0.011261185810251852,\n  -0.022661319362910683,\n  0.04403420235212367,\n  -0.01752020632772289,\n  0.02394975573660838,\n  -0.012865415047572477,\n  0.0020226554801129493,\n  -0.013301209758165674,\n  -0.0032463539908050387,\n  0.01908654004887973,\n  -0.017229676520660757,\n  -0.016029663638893625,\n  0.007496930312385842,\n  0.009802220545139701,\n  0.009328531249705308,\n  -0.02445502431840507,\n  -0.03908256503510964,\n  0.0030379305145493874,\n  -0.025629776006256582,\n  -0.005093744105644356,\n  0.0027237162427155366,\n  0.004506368727379894,\n  0.001714757088834622,\n  -0.008804313978504136,\n  0.004282155607943096,\n  0.0041811019847160175,\n  0.05199219369129257,\n  0.007339033880574377,\n  -0.036076214738245134,\n  0.01968023212260698,\n  -0.009536954725960958,\n  -0.0027505588223880034,\n  0.005968491641731496,\n  -0.04287208312387515,\n  -0.005573750096541539,\n  0.0003619779657398836,\n  -0.008936947353754804,\n  0.005779015457896444,\n  0.006568498548276357,\n  -0.003855835009221494,\n  0.0031089841416951937,\n  -0.0019642336140781895,\n  -0.01206961572739107,\n  -0.0061421777167241075,\n  0.007357981638656271,\n  0.007320086122492483,\n  -0.014071745090463694,\n  0.0016452825191391892,\n  0.03703622578871691,\n  -0.026956107896118065,\n  -0.017595997360050464,\n  -0.01066749466784719,\n  -0.02258553019322829,\n  0.0006935608217899308,\n  0.023583436759863855,\n  0.021764466885163494,\n  0.010395911687544362,\n  -0.011071709160755505,\n  -0.010907497430465134,\n  0.0050716386983230095,\n  -0.028598232649602477,\n  -0.027183479130455608,\n  -0.01992023581654751,\n  0.0012379093292535094,\n  -0.005239009009175421,\n  -0.0029510874770530817,\n  -0.027587693623363923,\n  0.01673704039846706,\n  0.006451654816206838,\n  0.020652875632681745,\n  0.008501152643161607,\n  -0.021878153433654856,\n  -0.004774793127120679,\n  0.016673879963097295,\n  -0.02473292352850939,\n  0.011456976826904514,\n  0.023836071050762197,\n  0.00882326173658603,\n  0.005197955843772181,\n  0.01954128251755482,\n  -0.0009868537465595683,\n  0.013149628624833114,\n  0.01686335754391623,\n  -0.006852712591198289,\n  0.0006801395901613592,\n  -0.014033849574299906,\n  0.014387537954086623,\n  -0.007616931693694814,\n  -0.006391654358382999,\n  0.00660007783463865,\n  -0.009764325960298505,\n  0.0026321362656987575,\n  0.005643224433406325,\n  -0.0025595038139332245,\n  0.034130927718095595,\n  0.022054996692225624,\n  0.0013334368334808988,\n  0.007301138830071885,\n  0.016219139357067383,\n  0.006783237788672208,\n  -0.0110527623339962,\n  0.00706113606745394,\n  -0.007143241932599125,\n  -0.015309654419717203,\n  0.024972925359804745,\n  0.020349713366016625,\n  -0.03089720618689355,\n  -0.02781506485770147,\n  0.004847425578886212,\n  0.0149054389954863,\n  -0.024000283712375156,\n  -0.03562147226957004,\n  0.00667586840130493,\n  0.0029968773491461475,\n  0.0014392275126437744,\n  -0.01954128251755482,\n  -0.01783599919134582,\n  -0.017558101843886675,\n  -0.01793705328023419,\n  -0.023924492680047583,\n  -0.014084376618744093,\n  -0.014817016434878325,\n  0.007882198444196147,\n  -0.009082212257285869,\n  -0.0021726570903338412,\n  -0.0034610934640315373,\n  -0.00776219659722588,\n  -0.029836141047533397,\n  0.026450837451676198,\n  0.005292694168520355,\n  0.018518112894358455,\n  -0.01779810553782721,\n  0.01764652347317206,\n  0.02738558544558718,\n  -0.018998118419594343,\n  -0.02781506485770147,\n  0.020033920502393696,\n  -0.020993931552865473,\n  -0.009296951963343014,\n  0.004411630868293015,\n  0.008336939981548648,\n  0.002526345470120558,\n  -0.004253734436481551,\n  0.011930667053661498,\n  0.014501223571255396,\n  0.022686582419471482,\n  0.021739203828602695,\n  0.012606464526872639,\n  -0.005614803261944779,\n  0.006473760689189478,\n  -0.005235851359935969,\n  0.013288577298562684,\n  -0.01968023212260698,\n  0.011059077632475106,\n  0.0038432032481104474,\n  -0.032665648085827136,\n  -0.0027331901217564833,\n  -0.0264003113385546,\n  -0.0043516304104691764,\n  0.006499024211411571,\n  0.003243196108734939,\n  0.014981229096491284,\n  0.0017937053047403545,\n  0.000742508750576082,\n  0.0383751882755362,\n  -0.03236248768180719,\n  0.014059113562183295,\n  0.0025784515720151183,\n  0.007332718116434178,\n  0.015928609550005253,\n  0.008330624683069743,\n  0.037415177225064426,\n  -0.02175183628820568,\n  -0.02242131753161533,\n  0.011254869580450357,\n  -0.035747789415019215,\n  0.016080189752015223,\n  0.012132774300115655,\n  -0.007680090732080695,\n  -0.001972128435668763,\n  -0.017280204496427535,\n  -0.006972713972507261,\n  -0.001515017846479407,\n  -0.0008510626638617877,\n  0.009366425834546506,\n  -0.013389631387451058,\n  0.00981485300474269,\n  -0.004117943411991432,\n  -0.02261079324978909,\n  -0.0037358336279125215,\n  -0.010945392015306333,\n  0.008324308453268248,\n  -0.014943334511650086,\n  -0.009088528487087364,\n  -0.033246707699951396,\n  -0.007509562306327536,\n  0.01446332805509161,\n  -0.011652768774879767,\n  -0.00032566173985711723,\n  -0.03511620368777335,\n  -0.0005064533405457623,\n  0.007496930312385842,\n  -0.021688677715481098,\n  0.020703401745803342,\n  0.008128516505292996,\n  0.0031184577879054933,\n  -0.03228669664947962,\n  -0.003219511643963219,\n  -0.004923216145552492,\n  -0.030442463718218456,\n  0.009101160015367763,\n  0.011981194098105686,\n  0.015031756140935472,\n  0.01800021185295878,\n  0.03597516251200194,\n  0.003780044675385861,\n  0.02273711039523826,\n  -3.091319425999391e-05,\n  -0.010351700872901671,\n  0.01121697406428657,\n  -0.00698534550078766,\n  -0.007130610404318726,\n  -0.01613071586513682,\n  0.0005897437898170366,\n  0.008772734692141845,\n  0.024657132496181816,\n  -0.006123229958642214,\n  0.007635879451776708,\n  -0.008747471635581046,\n  -0.005014795889738624,\n  0.012783308716765997,\n  -0.012423304107177787,\n  0.0016342298154785162,\n  -0.027259268300138004,\n  -0.0008715892465634076,\n  -0.021852888514448877,\n  -0.008955895111836696,\n  0.009176950116372748,\n  0.026652945629452945,\n  -0.0013302788349954752,\n  0.019149698621604313,\n  0.0017037042687586253,\n  0.03402987549185241,\n  -0.003502146629434777,\n  0.023520278187139268,\n  -0.01153276785923209,\n  0.010136962098167114,\n  -0.005352694626344194,\n  0.013250682713721488,\n  -0.0153475490045584,\n  0.00900010592647939,\n  0.0037295176309416747,\n  0.012638043813234932,\n  0.01158961020215518,\n  0.017166517947936173,\n  0.0365562221261262,\n  0.005283220289479408,\n  -0.001735283671536242,\n  0.005289536053619608,\n  0.012448568095061174,\n  -0.00942958533859368,\n  -0.02290132305685122,\n  -0.014488592042974997,\n  -0.005305325696800755,\n  -0.006928502692203274,\n  -0.030972997219221123,\n  -0.0073832451608783645,\n  -0.03420671875042317,\n  0.024177126970945925,\n  -0.015271758903553416,\n  -0.025200296594142288,\n  0.008191676009340171,\n  -0.006701131457865729,\n  -0.017873894707509608,\n  -0.01457701367226038,\n  0.0132127871975577,\n  0.02177709934476648,\n  -0.007553773120970228,\n  0.031301420679801864,\n  0.028497178560714105,\n  -0.0014273852802579145,\n  0.0060221763354151355,\n  -0.03198353624545967,\n  -0.00015197547568960494,\n  -0.00845062559871742,\n  0.020463399914507987,\n  0.049819533574160316,\n  -0.012334882477892401,\n  -0.011766454392048539,\n  0.007692722260361094,\n  0.005254798652356568,\n  -0.002055813823925616,\n  -0.004929531909692692,\n  0.003783202557455961,\n  0.03680885641702454,\n  -0.004338998416527483,\n  -0.008096937218930704,\n  0.00883589326486643,\n  -0.01036433240118207,\n  0.0208928774639771,\n  0.00774956506894548,\n  -0.010793811813296361,\n  -0.03253933094037796,\n  0.010136962098167114,\n  -0.0073832451608783645,\n  0.020387608882180414,\n  -0.02072866480236414,\n  0.014084376618744093,\n  0.03162984600302778,\n  0.004828477820804318,\n  0.001667388042875859,\n  -0.009600113298685545,\n  -0.0031058260267944468,\n  0.009530638496159465,\n  0.0019216016240552237,\n  0.030341409629330084,\n  -0.030038249225310145,\n  0.017595997360050464,\n  0.01952865192059701,\n  0.0018473902312546408,\n  -0.008166412021456784,\n  0.00032329329920071146,\n  -0.013882269372289936,\n  0.036328849029143476,\n  -0.01885917067718736,\n  0.00472110843343704,\n  -0.007774828591167573,\n  0.018732851669093012,\n  0.015094914713660057,\n  0.017229676520660757,\n  -0.021726571368999706,\n  -0.02136025239225518,\n  -0.01779810553782721,\n  -0.004266365964761949,\n  0.009435900637072586,\n  0.004787424655401078,\n  0.0003527015270878953,\n  -0.008564311215886192,\n  -0.0264255743951154,\n  -0.02917929226372674,\n  -0.03711201682104448,\n  0.0021331829823809747,\n  0.0020763401737965885,\n  -0.004717950318536293,\n  -0.021006564012468462,\n  -0.011078025390556998,\n  0.0010555387875298143,\n  0.03084668007377195,\n  -0.0016437035781041393,\n  -0.004304261480925737,\n  0.002490029477068439,\n  0.002032129126323249,\n  -0.012656991571316827,\n  0.01628229792979197,\n  0.02549082640120442,\n  -0.006205336289448694,\n  -0.011791718379931928,\n  0.01249909513950536,\n  0.011210658765807666,\n  -0.015019124612655073,\n  0.016673879963097295,\n  -0.009012737454759789,\n  -0.002987403702935848,\n  -0.010838022627939054,\n  0.010648546909765296,\n  0.011475924584986408,\n  -0.01366752966623279,\n  -0.0038526768943207466,\n  0.035469890204914895,\n  0.0026195045045877105,\n  0.007579036643192321,\n  0.008785367151744833,\n  -0.017406521641876706,\n  0.011336975911256836,\n  -0.010238015255732898,\n  0.02396238819621137,\n  -0.009233793390618429,\n  -0.03486356939687501,\n  0.013124365568272315,\n  0.005254798652356568,\n  -0.004405315104152816,\n  0.006129546188443708,\n  -0.01460227766014377,\n  -0.009619061056767438,\n  -0.0011668558185230265,\n  -0.008659049074973071,\n  -0.0030584570972510073,\n  -0.022054996692225624,\n  -0.026652945629452945,\n  -0.011835929194574619,\n  -0.010168541384529408,\n  0.016345456502516554,\n  0.00456321153596428,\n  0.008223255295702465,\n  0.013730688238957376,\n  0.011684348061242059,\n  -0.005507433408916206,\n  0.00270161083539419,\n  -0.0035179362726159235,\n  -0.017633892876214252,\n  0.006536919261914065,\n  -0.012789624946567492,\n  -0.008772734692141845,\n  -0.002826349156223636,\n  -0.017153887350978364,\n  0.015486498609610561,\n  0.03430777470195673,\n  -0.008886420309310616,\n  -0.017772840618621232,\n  0.007869566915915747,\n  -0.020690771148845533,\n  -0.0034453038208503905,\n  -0.003150037074267786,\n  0.003622148010743749,\n  -0.001714757088834622,\n  -0.008829577966387525,\n  -0.015625447283340133,\n  0.008595890502248486,\n  0.012581200538989252,\n  0.007585352407332521,\n  -0.023090798775024977,\n  -0.008374835497712434,\n  0.007155873926540819,\n  0.010414859445626257,\n  0.0021252881607904017,\n  0.005239009009175421,\n  -0.03529304694634412,\n  -0.010256963013814792,\n  -0.006454812931107585,\n  -0.0031358264885370133,\n  -0.008526416631044994,\n  0.02842138752838653,\n  -0.03779412866141194,\n  -0.028850866940500822,\n  -0.025667671522420367,\n  -0.008627469788610778,\n  -0.009960117908273756,\n  0.008166412021456784,\n  0.020703401745803342,\n  -0.01172855980720734,\n  -0.001686335684542429,\n  0.012795940245046397,\n  -0.02175183628820568,\n  -0.0055263811669981,\n  0.004828477820804318,\n  0.01983181232461695,\n  -0.005147429264989289,\n  0.020286554793292038,\n  -0.013427526903614845,\n  -0.00913905553153155,\n  0.02614767704765626,\n  -0.02568030211937818,\n  -0.004357946174609376,\n  -0.023823438591159207,\n  -0.004329524537486536,\n  0.04661107509951907,\n  -0.014968597568210885,\n  -0.0007464561613713686,\n  -0.039410990358335556,\n  0.01222119686072363,\n  -0.008122201206814091,\n  0.00023566067477155716,\n  0.010579072107239216,\n  -0.013654898137952391,\n  0.004143206934213525,\n  -0.019591810493321593,\n  -0.00388109829861294,\n  -0.011640137246599368,\n  0.0020968667564982084,\n  -0.014842280422761714,\n  -0.017330730609549132,\n  -0.011482240814787902,\n  0.01859390392668603,\n  0.008280097638625555,\n  -0.02057708460035417,\n  0.0002800691044261935,\n  -0.00268740001683277,\n  -0.010206435969370606,\n  -0.004487421434959295,\n  -0.021587623626592722,\n  0.024492919834568857,\n  -0.00905694920072507,\n  0.00030631939203561566,\n  0.01153276785923209,\n  -0.009852747589583889,\n  0.00036513587691381434,\n  0.02012234213167908,\n  0.013250682713721488,\n  0.00536848426952534,\n  0.010389596389065458,\n  0.2760790332355449,\n  -0.0054221694288702745,\n  0.0034168824165581976,\n  0.0493900560246912,\n  0.018934959846869756,\n  0.009385373592628398,\n  0.004790582770301826,\n  0.012789624946567492,\n  -0.003363197490043911,\n  0.007957988545201132,\n  -0.011198027237527266,\n  0.00668218416544513,\n  -0.0123601455344532,\n  0.00744640373360295,\n  0.009252741148700323,\n  -0.030341409629330084,\n  -0.04072469165123923,\n  -0.0007050082898131972,\n  -0.00996643320675266,\n  -0.017431784698437505,\n  -0.000978958924968995,\n  -0.004920058030651745,\n  -0.004256892085721003,\n  -0.019288648226656473,\n  0.025010820875968533,\n  0.010256963013814792,\n  -0.01215172205819755,\n  0.00014654778584608584,\n  -0.0010871180738921073,\n  0.001080012781026721,\n  -0.024492919834568857,\n  -0.0011629084077277398,\n  0.004092679889769338,\n  0.018796010241817596,\n  -0.013326472814726473,\n  -0.006530603497773865,\n  0.02502345333557152,\n  0.023419224098250896,\n  -0.0039853100367407655,\n  0.003562147320089263,\n  -0.007825355169950466,\n  0.005984281284912643,\n  0.004664265624852654,\n  -0.030012986168749346,\n  -0.008317993154789344,\n  0.0037295176309416747,\n  ...],\n [-0.008992794383497692,\n  -0.01581978498157946,\n  -0.020608766952490316,\n  -0.03946874844798401,\n  -0.0014957162308320588,\n  0.006181285069622961,\n  -0.011555438461503068,\n  0.021536969639180132,\n  0.007264186962330923,\n  -0.01567181085618198,\n  0.011992634825752224,\n  -0.0005822279758367753,\n  0.004072652851386259,\n  0.005579299084456808,\n  0.025491914953252377,\n  0.01053307067628466,\n  0.02639321359216906,\n  -0.008535419983418686,\n  0.014151712599224864,\n  0.0015394358905400397,\n  -0.029245078046380876,\n  -0.01107115908232831,\n  0.010095874312035506,\n  -0.0077081093385233624,\n  -0.004627556287288117,\n  0.031128385604888408,\n  0.02393145969331294,\n  -0.025653341102536427,\n  -0.012281857064603899,\n  -0.026998562117645546,\n  0.016963221913099593,\n  0.005952597869583458,\n  -0.02226338824228096,\n  -0.0111653241808569,\n  0.006510863845795648,\n  -0.012483640216870267,\n  0.01903485966866431,\n  -0.000435935295217453,\n  -0.0058617953113652,\n  -0.004301340517087071,\n  0.02776533679240608,\n  0.015658358832295414,\n  -0.006746277523439745,\n  7.067658914348892e-05,\n  -0.01947878204485675,\n  0.01308226273040347,\n  0.002863636604927144,\n  -0.01289393160202367,\n  -0.02145625563321549,\n  -0.009833557052279583,\n  0.0056331081113256964,\n  0.02469823623071871,\n  -0.037262590453553616,\n  -0.007856083463920843,\n  -0.02106614135256932,\n  0.005246357302312479,\n  -0.006988416747365816,\n  0.012678696425870734,\n  0.01576597688603319,\n  -0.007008595248856976,\n  -0.002231383333185559,\n  -0.005744088705373806,\n  -0.041836334454343684,\n  -0.00044182064297932174,\n  -0.004664549818637486,\n  -0.007028773750348136,\n  -0.007317995989199811,\n  0.024200503896334765,\n  -0.012046443852621111,\n  0.008535419983418686,\n  0.01606192513682815,\n  0.005458229472493773,\n  -0.0134387460200106,\n  -0.0067395510458351515,\n  0.003763252343874077,\n  -0.01183793468841146,\n  0.015685262880068548,\n  -0.007640848753429215,\n  -0.018429511143187822,\n  -0.0008861635404373749,\n  0.016573107632453427,\n  -0.0268774920400212,\n  0.017985588766995384,\n  0.022357552409486937,\n  0.010398549506096366,\n  0.0005658330888943665,\n  0.0026265416571278812,\n  0.005781082236723176,\n  -0.013216784831914382,\n  -0.022236484194507827,\n  0.008669942084929598,\n  0.008051140604243926,\n  0.006648748953278202,\n  0.01194555181082662,\n  -0.016734533781737473,\n  -0.006584850908494389,\n  0.004334971042464799,\n  0.012093525936224099,\n  -0.002359179189922533,\n  -0.01200608684963879,\n  -0.015806332957692893,\n  0.01245000922583123,\n  0.025828221138352276,\n  -0.016035021089055013,\n  -0.007802274902713262,\n  -0.018294989041676913,\n  0.012981371619931594,\n  0.005717184191939362,\n  0.03906518400609651,\n  0.0013578312397648322,\n  -0.032446702572224394,\n  0.032312178608068245,\n  -0.0006103935000952579,\n  -0.020931621113703645,\n  -0.006753003535383028,\n  -0.007714835816127955,\n  0.025989647287636322,\n  -0.0087102981565893,\n  0.027012014141532113,\n  -0.043934879982972005,\n  0.024240861830639702,\n  -0.004563658242504302,\n  0.019236643752253296,\n  -0.003437036573673032,\n  0.02827652115067659,\n  0.01670762973396434,\n  -0.019290451847799567,\n  -0.015631454784522276,\n  -0.029863880458389166,\n  -0.0036018259617593756,\n  0.023756581520142327,\n  0.005945871391978865,\n  0.0037935198632801635,\n  0.002110313488391869,\n  0.0025071533153200125,\n  0.025074896624833077,\n  -0.0014612450703767475,\n  -0.007398709063841835,\n  -0.020447340803206267,\n  -0.013411841972237465,\n  0.004297977511115429,\n  0.023110876923006136,\n  0.0008109152922916058,\n  -0.01070122376883461,\n  -0.008441253953567476,\n  0.02028591465392222,\n  -0.00878428521928804,\n  0.012167512998922839,\n  0.00885827228198678,\n  -0.009369455708934675,\n  0.02730796239232707,\n  -0.006241820108435134,\n  0.025263228684535493,\n  -0.028949129795585917,\n  0.01801249281476852,\n  0.01611573323237442,\n  0.01312261973338579,\n  0.02908365189709683,\n  -0.010015161237393481,\n  0.0018513587689462797,\n  -0.01985544430161635,\n  0.014689800073945894,\n  -0.002217931076468337,\n  -0.009920996138864891,\n  0.013115892790119888,\n  0.011656329571974943,\n  0.0318009979750882,\n  0.008575776055078388,\n  0.00227005836752075,\n  0.0010963541494251842,\n  -0.009288742634292652,\n  0.010916458944987545,\n  -0.05725255499403564,\n  -0.004879784994790422,\n  -0.01736678821763233,\n  0.021765655907897016,\n  0.02058186290471718,\n  -0.0032537504199120033,\n  -0.033926443826199186,\n  -0.025989647287636322,\n  -0.024926922499435594,\n  -0.011790851673485855,\n  0.011696686574957264,\n  0.03497571659051335,\n  -0.029541026297175834,\n  0.004849517475384335,\n  0.008158757726659084,\n  0.00965867794778635,\n  0.014286234700735775,\n  -0.010546523631493845,\n  0.0010929911434535422,\n  0.004442588630541267,\n  0.009813378085127115,\n  -0.0018782631659653968,\n  -0.6788517548995852,\n  -0.022155770188543186,\n  0.0022397910809453182,\n  -0.026379759705637256,\n  0.02183291788997509,\n  -0.005138739714236011,\n  0.007640848753429215,\n  0.020474244850979404,\n  -0.017447500360951735,\n  0.025155610630797718,\n  -0.000819743299382493,\n  0.0029729356959894327,\n  0.005498586009814784,\n  0.0018446326405876688,\n  -0.020891263179398708,\n  -0.017191910044461717,\n  0.015631454784522276,\n  -0.029863880458389166,\n  0.02753664866104396,\n  0.005912240866601137,\n  -0.007217104413066628,\n  0.012537448312416538,\n  -0.00142341067111914,\n  0.007876262431073311,\n  -0.009120590473065321,\n  -0.01799904079088195,\n  0.026043455383182593,\n  -0.004530027717126574,\n  0.0005813871661362012,\n  0.011898468795901014,\n  -0.035944273486217634,\n  0.017232266116121418,\n  -0.007862809475864126,\n  -0.018752363441755918,\n  0.04963861261668611,\n  -0.023568251323085144,\n  -0.02401217369927758,\n  0.018187370987939135,\n  0.011057707058441741,\n  0.01581978498157946,\n  -0.022021248087032274,\n  -0.0136203502051245,\n  0.015940855059203805,\n  -0.0014612450703767475,\n  -0.009759569989580844,\n  0.013068810706516902,\n  0.0257206030846145,\n  0.008508515004322932,\n  -0.0015772701733823202,\n  -0.016801795763815547,\n  0.007291091475765368,\n  -0.019640210056786032,\n  -0.003941494221508297,\n  0.0389844718627771,\n  -0.005010943624668383,\n  -0.016156089304034123,\n  0.04065254145116385,\n  0.002996477203452235,\n  0.0177972585699382,\n  0.01649239548913402,\n  -0.0022044790525817693,\n  0.025249776660648926,\n  -0.02674296993851029,\n  -0.003400043042323662,\n  -0.0019152566973147666,\n  0.0039145897080738535,\n  -0.03274265082301935,\n  0.010707949780777893,\n  0.0016428497211519553,\n  -0.014057547500696273,\n  0.016747985805624043,\n  0.00013935636438748363,\n  -0.004923504538083075,\n  0.0038069721199973853,\n  -0.02432157397395911,\n  0.01751476234302981,\n  0.009463621738785883,\n  0.0068135385741952,\n  -0.014192068670884567,\n  0.020016870450900396,\n  -0.0003171776043407623,\n  -0.005878610806884718,\n  -0.031155291515306778,\n  0.0011510036949563284,\n  0.037343302596873025,\n  0.002446618509338495,\n  -0.01916938177017522,\n  -0.02908365189709683,\n  0.016909413817553325,\n  0.012732505452739622,\n  0.009073507458139715,\n  0.022438266415451578,\n  -0.012409653154171528,\n  -0.022976354821495223,\n  0.021577325710839833,\n  0.03521785302047157,\n  0.006487322338332846,\n  0.026769873986283426,\n  -0.007358352526520824,\n  -0.03637474197587827,\n  -0.001441907436793825,\n  0.01111151608531063,\n  -0.008447979965510761,\n  -0.010351466491170762,\n  -0.007048951786177988,\n  -0.0034437628184469703,\n  -0.011683233619748079,\n  0.0162637073577719,\n  0.052006198623045785,\n  -0.016976673936986163,\n  0.002211205064525053,\n  0.024429192027696885,\n  -0.02455026210532123,\n  0.014743609100814783,\n  -0.023743129496255757,\n  -0.03013292466141099,\n  0.006746277523439745,\n  0.01934426180599107,\n  0.020312818701695354,\n  -0.01567181085618198,\n  -0.0012821626740802713,\n  -0.002999840209423877,\n  0.007674478813145634,\n  -7.99775189491383e-05,\n  0.0028215985646203113,\n  0.020904715203285275,\n  0.00813185367888595,\n  -0.029487218201629566,\n  -0.018725459393982784,\n  0.021442803609328924,\n  -0.0035446541617494996,\n  -0.005952597869583458,\n  0.007196925911575468,\n  -0.009234933607423763,\n  0.018120110868506296,\n  0.01592740303531724,\n  0.029191269950834604,\n  0.006870710141374422,\n  0.0024869750466595068,\n  -0.0026265416571278812,\n  0.01616954132792069,\n  0.02140244753766922,\n  -0.002127128751080733,\n  -0.020541506833057478,\n  -0.02814199904916568,\n  -0.025317036780081764,\n  -0.031155291515306778,\n  0.02222303217062126,\n  -0.00448630817383392,\n  -0.002325548664544805,\n  -0.010815566903193052,\n  0.008030962568414075,\n  -0.019236643752253296,\n  0.018698555346209646,\n  0.002325548664544805,\n  -0.001094672646439363,\n  -0.01771654456397356,\n  -0.028357233293995997,\n  -0.008071318640073778,\n  -0.04641008218042422,\n  0.01538931462927359,\n  -0.0005994635560644309,\n  -0.016721081757850906,\n  0.005047937156017753,\n  0.008959164323781273,\n  -0.0037228958065530656,\n  0.030617203109263132,\n  0.002759382255652972,\n  0.000865985271776869,\n  -0.006396520245775897,\n  -0.016667273662304635,\n  -0.017918328647562546,\n  -0.020339722749468492,\n  0.00995462619858131,\n  0.010566701667323698,\n  0.014622539023190438,\n  0.010640688730022437,\n  -0.01980163620607008,\n  -0.0005818075418826564,\n  0.003278973197529972,\n  -0.008387445858021206,\n  0.02577441118016077,\n  -0.025370844875628035,\n  0.011548712449559784,\n  0.0533514196381549,\n  0.0030704642661509747,\n  0.00835381486698217,\n  0.026931300135567472,\n  -0.006759729547326313,\n  0.00978647403735398,\n  0.004923504538083075,\n  0.027738432744632942,\n  -0.00017235628248978105,\n  -0.0006986735127964668,\n  -0.005377516397851749,\n  -0.0075466831892393145,\n  -0.004361875090237934,\n  0.010990446007686285,\n  0.03852709560005286,\n  0.008178936693811555,\n  0.005777719230751534,\n  -0.01114514614502705,\n  0.03449143628001597,\n  -0.011676507607804795,\n  -0.0065545833890883025,\n  -0.03580975324735196,\n  -0.002830006079549416,\n  -0.01830844106556348,\n  0.008118401654999382,\n  0.00878428521928804,\n  -0.0071094868249901595,\n  0.003364731013960113,\n  -0.019586400098594525,\n  0.00959814290897418,\n  0.0036287304751938198,\n  0.027738432744632942,\n  -0.0185371291969256,\n  -0.006927882174214952,\n  0.010479262580738391,\n  0.010761758807646783,\n  0.0001936906281087866,\n  -0.029729358356878254,\n  -0.01678834373992898,\n  -0.0025794588750329313,\n  -0.010163135362790962,\n  0.014595634975417302,\n  -0.010277479428472023,\n  0.016384777435396243,\n  -0.013277319870726553,\n  -0.027738432744632942,\n  -0.009019698431270828,\n  -0.0005855909818084172,\n  -0.0038473286573183973,\n  0.012026264885468643,\n  0.007761918365392251,\n  0.009961353141847212,\n  0.020702932982341524,\n  -0.005343885872474021,\n  0.023420277197687665,\n  0.006376341744284737,\n  0.008501788992379649,\n  0.01101735005545942,\n  0.03325383518128987,\n  -0.002322185658573163,\n  0.030186732756957258,\n  0.029971496649481708,\n  0.028007476947654767,\n  0.013976833494731632,\n  -0.004388779603672378,\n  -0.021442803609328924,\n  -0.021133403334647395,\n  0.01356654210957823,\n  -0.020205202510602815,\n  -0.006494048815937439,\n  0.02543810685770611,\n  -0.01625025533388533,\n  0.010976993983799718,\n  -0.0007583676837004012,\n  0.013593446157351365,\n  0.029191269950834604,\n  -0.0016731171241427141,\n  0.006016495448705963,\n  -0.01183793468841146,\n  0.011246037255498924,\n  0.002473523022772939,\n  0.0005801260388968354,\n  0.007391983051898552,\n  -0.008427801929680909,\n  -0.0036825392692320536,\n  -0.0011602520777936709,\n  0.009295468646235936,\n  0.00783590542809099,\n  0.017124648062383643,\n  -0.022209578284089457,\n  0.004321518552916922,\n  -0.0018681740316351437,\n  0.011077885094271593,\n  -0.008636311093890561,\n  -0.021079595239101124,\n  0.017151552110156777,\n  0.004886511006733705,\n  -0.030509585055525354,\n  0.00978647403735398,\n  0.011030802079345987,\n  -0.013176427828932061,\n  -0.030025306607673212,\n  -0.03433000826808669,\n  0.022532432445302786,\n  -0.006766455559269596,\n  -0.0033344637273846813,\n  0.0069816907354225315,\n  -0.0065882139144660306,\n  -0.0009870550583628954,\n  -0.017353336193745763,\n  -0.0067059209861187324,\n  -0.008575776055078388,\n  0.03032125485846817,\n  -0.018671651298436513,\n  0.0007339855411600157,\n  -0.015483479727802181,\n  0.0018160467405827308,\n  0.02145625563321549,\n  -0.008380719846077921,\n  -0.01707083996683737,\n  0.03551380127126653,\n  0.010519618652398094,\n  -0.030751725210774045,\n  0.008158757726659084,\n  0.02190017800940793,\n  -0.023057066964814632,\n  -0.005169007233642097,\n  0.007634122275824623,\n  -0.004530027717126574,\n  -0.028088189090974176,\n  0.008427801929680909,\n  0.017541666390802946,\n  -0.004785619430600522,\n  0.013613624193181215,\n  0.05063407356016353,\n  -0.004896600024648631,\n  -0.028115095001392545,\n  -0.02285528474387088,\n  -0.038580903695599134,\n  0.006769818565241238,\n  0.04554914147581248,\n  -0.0034740301050224017,\n  0.007048951786177988,\n  0.012880479578137101,\n  -0.02776533679240608,\n  -0.015254792527762677,\n  0.0013216784599083726,\n  -0.025222870750230556,\n  -0.016546203584680293,\n  -0.014097903572355975,\n  -0.0033411897393279652,\n  -0.009611595864183364,\n  0.0030755087751084377,\n  0.012887205590080384,\n  0.02109304726298769,\n  0.015093366378478629,\n  -0.0004363556709639082,\n  0.0010517937382242928,\n  0.007405435075785119,\n  -0.004620830275344832,\n  0.005814712762100904,\n  0.002229701830199738,\n  -0.0037195328005814234,\n  0.021119951310760828,\n  -0.012920836581119421,\n  0.002875407358658545,\n  -0.0031579035855669366,\n  0.008051140604243926,\n  0.0039953027827158765,\n  -0.019667114104559166,\n  -0.015456575680029045,\n  0.0019186197032864086,\n  0.010755032795703497,\n  0.020474244850979404,\n  -0.009255112574576233,\n  0.015160627429234085,\n  -0.02190017800940793,\n  0.017339884169859196,\n  0.030644107157036266,\n  -0.0036589979945999057,\n  0.009134042496951888,\n  0.00235413468096507,\n  0.003431992064715569,\n  -0.009234933607423763,\n  0.010311109488188442,\n  0.0013040224457265982,\n  -0.024630974248640636,\n  0.030025306607673212,\n  -0.015053009375496309,\n  0.01649239548913402,\n  0.03131671766459083,\n  0.02682368394447493,\n  -0.03395334787397233,\n  -0.017582022462462647,\n  -0.0007020365769757722,\n  0.026608447836999376,\n  0.00571382118596772,\n  0.005733999221797572,\n  0.015860141053239164,\n  -0.01906176557908268,\n  -0.010654140753909006,\n  -0.03290407510965816,\n  -0.001743741180869812,\n  -0.0088986292849691,\n  -0.004274436003652626,\n  -0.028384137341769134,\n  -0.020030322474786963,\n  -0.008360540878925453,\n  0.0038069721199973853,\n  -0.005727273209854288,\n  -0.031827902022861336,\n  -0.012436557201944663,\n  -0.027603910643122034,\n  -0.01868510332232308,\n  0.005377516397851749,\n  0.0020766831958447954,\n  0.022545884469189353,\n  0.001168659709138103,\n  0.017380240241518897,\n  0.026325951610090985,\n  -0.013633803160333685,\n  -0.0007966223422891368,\n  -0.011340203285350133,\n  -0.03502952468605962,\n  -0.01978818418218351,\n  0.02058186290471718,\n  0.02226338824228096,\n  0.0007684568180306542,\n  -0.015268244551649246,\n  0.0025760958690612895,\n  0.02284183271998431,\n  0.0016815247554871461,\n  0.019963062355354125,\n  0.009988257189620348,\n  -0.020528054809170908,\n  0.0019152566973147666,\n  0.011911921751110199,\n  0.023164685018552407,\n  -0.0037329850572986457,\n  -0.006393157239804255,\n  -0.008118401654999382,\n  -0.031155291515306778,\n  0.005461592478465414,\n  -0.0005519605146383528,\n  -0.0031461328318355356,\n  -0.011118242097253914,\n  0.00854214599536197,\n  0.0023911282123144396,\n  -0.008622859070003992,\n  0.009705760962711954,\n  0.005774356224779892,\n  -0.013297497906556405,\n  -0.00930219465817922,\n  0.004166818415576159,\n  0.008447979965510761,\n  0.017312978259440826,\n  0.0012443282748226638,\n  -0.0025458285824858577,\n  -0.029567932207594207,\n  -0.023998721675391015,\n  -0.013378210981198428,\n  0.008777559207344757,\n  0.03963017645991329,\n  0.01957294807470796,\n  -0.02132173353170458,\n  -0.017487858295256675,\n  0.00561965562177782,\n  -0.005084930687367123,\n  0.0042038119469255284,\n  0.012530722300473253,\n  -0.005733999221797572,\n  0.020702932982341524,\n  -0.017272622187781122,\n  -0.010882827953948508,\n  -0.02432157397395911,\n  0.0013132708285639406,\n  -0.02132173353170458,\n  0.0019404795913480627,\n  -0.011494903422690897,\n  0.00018822568519720486,\n  -0.03723568268049001,\n  -0.005703732168052794,\n  0.011198955171895937,\n  -0.01639822945928281,\n  -0.04904671611509619,\n  -0.03341525946792868,\n  -0.021119951310760828,\n  -0.0035782846871272277,\n  -0.007344900036972947,\n  0.0019741101167257908,\n  -0.001217423877803547,\n  0.009127316485008604,\n  -0.03274265082301935,\n  0.003442081082630495,\n  -0.010203492365773283,\n  -0.015712166927841685,\n  -0.0076273962638813385,\n  -0.021913630033294496,\n  0.002787968039242583,\n  0.024926922499435594,\n  0.04493034092644942,\n  -0.0035312019050322777,\n  0.027550102547575762,\n  -0.012813218527381645,\n  -0.004163455409604517,\n  -0.007822453404204423,\n  0.006564672872664537,\n  0.013203332808027813,\n  -0.03204313440504642,\n  0.006726099021948585,\n  0.018348798999868417,\n  0.001178748843468356,\n  0.020178296600184446,\n  -0.012739231464682905,\n  -0.002492019788447624,\n  0.00359173694384445,\n  -0.0008836412859586435,\n  -0.00560284059191961,\n  0.015981211130863506,\n  -0.02036662865988686,\n  -0.007862809475864126,\n  0.0009248386329802294,\n  -0.005851706293450274,\n  -0.0025071533153200125,\n  0.00227005836752075,\n  -0.02469823623071871,\n  0.0037565263319307937,\n  -0.010075696276205654,\n  0.016801795763815547,\n  -0.0020430526704670678,\n  0.01524134050387611,\n  -4.36933716719116e-05,\n  0.02908365189709683,\n  -0.019276999823913,\n  0.021711847812350745,\n  0.006201463105452813,\n  0.009705760962711954,\n  -0.012766136443778659,\n  0.0032419796661806023,\n  0.010425453553869502,\n  -0.0072238304250099115,\n  0.027577006595348896,\n  -0.0211737594063071,\n  -0.005068115657508913,\n  0.020353176636000295,\n  0.0028854966094041252,\n  -0.005384242409795033,\n  0.0013073854516982401,\n  0.019451877997083613,\n  -0.015456575680029045,\n  -0.010876101942005225,\n  -0.031128385604888408,\n  -0.022895640815530582,\n  -0.03427620017254042,\n  0.017756900635633264,\n  0.010452357601642637,\n  -0.012423105178058095,\n  0.02094507313759021,\n  0.0014360221763434515,\n  -0.02028591465392222,\n  0.0065882139144660306,\n  0.011346929297293416,\n  0.026998562117645546,\n  0.004930230550026359,\n  0.03271574677524622,\n  0.016801795763815547,\n  0.013579994133464796,\n  -0.01736678821763233,\n  -0.0020094221450893397,\n  -0.0021052689794344064,\n  -0.01066086676585229,\n  0.02475204432626498,\n  0.013579994133464796,\n  0.011481451398804328,\n  0.0007255779098155837,\n  0.0077081093385233624,\n  0.004714995373873424,\n  -0.0208105510360793,\n  -0.034706672387491526,\n  0.009537608801484625,\n  0.009349277673104823,\n  0.019048311692550876,\n  -0.015443123656142477,\n  -0.014447660850019823,\n  -0.006457055284588069,\n  0.01432659077239548,\n  -0.028545565353698416,\n  0.006167833045736394,\n  -0.016922865841439892,\n  -0.009813378085127115,\n  -0.017003577984759297,\n  0.008488336968493082,\n  -0.029191269950834604,\n  0.03868852361198214,\n  -0.015833237005466027,\n  0.0027274332332610654,\n  -0.007069130287669148,\n  -0.005071478663480555,\n  0.002905674878064631,\n  -0.0020985429674911225,\n  0.0162637073577719,\n  0.04170181421547801,\n  -0.009060055434253148,\n  -0.006420061753238699,\n  0.004573747260419228,\n  0.0068774361533177055,\n  -0.020918167227171842,\n  -0.008602681034174142,\n  -0.020595314928603746,\n  0.024604070200867502,\n  -0.03459905247110851,\n  0.0037228958065530656,\n  -0.010102601255301408,\n  0.00558266209042845,\n  0.02140244753766922,\n  0.009739391022428375,\n  -0.0015638180330804254,\n  -0.012584531327342142,\n  -0.0393880363046646,\n  -0.02300325886926836,\n  0.01708429199072394,\n  0.006214915595000689,\n  0.01950568795527512,\n  -0.013223510843857665,\n  -0.014124807620129111,\n  -0.004741899887307868,\n  -0.02368932140070949,\n  -0.02015139255241131,\n  0.028680085592564093,\n  -0.046167945750466004,\n  0.0026349494048876405,\n  -0.010116053279187975,\n  0.014999201279950039,\n  0.0019203013226875567,\n  0.001710110655492084,\n  0.003934767743903705,\n  -0.004039022326008531,\n  0.029029843801550558,\n  -0.02709272628485152,\n  0.012416379166114811,\n  0.01848332110137933,\n  0.01830844106556348,\n  -0.015644906808408847,\n  0.014393851823150935,\n  0.021200663454080233,\n  -0.017030482032532435,\n  0.00012706021373259298,\n  0.0027509745078932134,\n  -0.016290611405545035,\n  0.019048311692550876,\n  0.009120590473065321,\n  -0.0204338887793197,\n  0.001146799937491776,\n  -0.004331607570831848,\n  -0.0015890409271137212,\n  -0.0013057039487124192,\n  0.008293279828169997,\n  -0.01860438931635844,\n  -0.00975284397763756,\n  0.0047217213858167075,\n  -0.01939806990153734,\n  0.014420756802246687,\n  0.015268244551649246,\n  -0.0056331081113256964,\n  0.0020144666540468023,\n  -0.011151872156970333,\n  -0.01795868471922225,\n  -0.01942497394931048,\n  -0.008407623893851057,\n  -0.020178296600184446,\n  0.012026264885468643,\n  -0.016828699811588684,\n  0.010963541028590533,\n  -0.01033128845534091,\n  -0.01781071059382477,\n  -0.01215406097503627,\n  0.0008399216262506625,\n  0.01573907097561482,\n  -0.010559975655380414,\n  -0.0067193730100053,\n  -0.0003459737213227597,\n  0.020985429209249916,\n  0.036589978083353826,\n  0.015604549805426525,\n  -0.008622859070003992,\n  -0.013909572443976176,\n  0.005296802857548417,\n  -0.005017670102272976,\n  -0.019976514379240695,\n  -0.02237100629601874,\n  -0.002219612579454158,\n  0.038042815289555484,\n  0.0030099292273388025,\n  -0.013384936993141713,\n  -0.018900337567153397,\n  0.0017925053495352558,\n  -0.0136270771483904,\n  -0.01392302539918536,\n  -0.013633803160333685,\n  -0.012611435375115278,\n  0.0005620496489686058,\n  0.018819625423833992,\n  0.006050125974083691,\n  0.029621740303140475,\n  0.003521112887117352,\n  0.018429511143187822,\n  0.0007381893568322317,\n  0.012470187261661082,\n  0.00039158507188978916,\n  -0.007210378401123344,\n  0.010889553965891792,\n  0.012517270276586686,\n  -0.025666793126422994,\n  -0.0033008332020069532,\n  0.006376341744284737,\n  0.039280420113572065,\n  0.001847995762974638,\n  0.018631295226776808,\n  -0.003860780914035619,\n  0.006181285069622961,\n  -0.012571079303455574,\n  -0.020985429209249916,\n  -0.004674638836552412,\n  0.0014763787136644634,\n  -0.011595794533162772,\n  -0.03467976833971839,\n  0.013539637130482476,\n  0.007129664860820012,\n  0.001534391381582577,\n  -0.0037531633259591515,\n  0.01125949021070811,\n  0.00086766677476269,\n  -0.010808840891249769,\n  -0.0037531633259591515,\n  -0.010270753416528739,\n  -0.0159004989875441,\n  -0.0016815247554871461,\n  -0.008447979965510761,\n  -0.004462766666371118,\n  -0.00959814290897418,\n  -0.005976138911384952,\n  0.030079114703219483,\n  0.015658358832295414,\n  -0.014111355596242544,\n  -0.0008525330732673106,\n  -0.008474884944606513,\n  -0.011999360837695507,\n  -0.0215504216630667,\n  -0.0019203013226875567,\n  -0.011044255034555174,\n  0.020406984731546566,\n  -0.007990605565431753,\n  -0.01286030154230725,\n  -0.005723910203882646,\n  0.00634607469053996,\n  -0.0041701814215478,\n  -0.006652111959249844,\n  -0.02071638500622809,\n  0.010452357601642637,\n  -0.004533390723098216,\n  0.014420756802246687,\n  -0.018173918964052568,\n  -0.015093366378478629,\n  0.0010080740785163118,\n  0.005004217612725099,\n  -0.008044414592300642,\n  -0.01576597688603319,\n  -0.007896440466903163,\n  -0.016667273662304635,\n  0.007472696126540575,\n  -0.026702613866850588,\n  -0.0017008622726547415,\n  0.0047452628932795095,\n  -0.008999520395440976,\n  -0.005108472194829925,\n  -0.016075377160714718,\n  0.21006953192526517,\n  -0.017043935919064234,\n  -0.009551060825371192,\n  0.02246517046322471,\n  -0.007822453404204423,\n  0.009221481583537196,\n  0.02629904756231785,\n  0.019088669626855816,\n  -0.02417359984856163,\n  0.011622699512258524,\n  -0.004758714917166077,\n  -1.2769078826621275e-05,\n  0.008111675643056098,\n  -0.009167673487990925,\n  0.00897261634766784,\n  0.0018715370376067857,\n  -0.017703092540086993,\n  0.01040527551803965,\n  -0.010667592777795573,\n  -0.018981051573118038,\n  0.012456735237774514,\n  -0.0031663111004960414,\n  -8.37084046306342e-05,\n  -0.020218654534489382,\n  0.012759409500512757,\n  -0.0017740085838605709,\n  -0.017326430283327393,\n  0.012409653154171528,\n  0.0037195328005814234,\n  0.03239289447667812,\n  -0.018469867214847526,\n  0.004022207296150321,\n  -0.0024953827944192656,\n  -0.009174399499934208,\n  -0.003351278757242891,\n  -0.012873753566193817,\n  0.02562643705476329,\n  -0.004886511006733705,\n  0.007082582311555716,\n  0.0065781248965511045,\n  0.018120110868506296,\n  -0.016573107632453427,\n  0.010842471882288806,\n  -0.03139742980791023,\n  0.018362251023754984,\n  -0.01592740303531724,\n  ...],\n [-0.010672042016738825,\n  -0.01712386326136559,\n  0.019208397669420042,\n  -0.03202252144170059,\n  -0.038953911365967854,\n  0.02409362180924763,\n  -0.0038717324721889664,\n  -0.01908051219147725,\n  -0.002199630034351487,\n  -0.03358272501766062,\n  -0.003993223489970121,\n  0.017814444469727662,\n  0.00032630774906804085,\n  -0.005403160977421625,\n  -0.0008124723455645689,\n  -0.013376819502699836,\n  0.030513471684388695,\n  -0.0038749297022697845,\n  0.00718076874829741,\n  -0.017392423137574442,\n  0.00040383830842932614,\n  0.012667055845175338,\n  -0.005415949432083656,\n  -0.017865600151020747,\n  -0.025768921942827167,\n  0.021228987475858132,\n  0.005652537473145569,\n  0.0010718400688757583,\n  0.014118555461032512,\n  -0.021241776396181404,\n  0.03304560526524291,\n  0.008549143641682005,\n  -0.03680543608158698,\n  -0.008120726918044666,\n  -0.002038174571882591,\n  -0.01145853733355799,\n  -0.019540898421955322,\n  -0.0031395882040987436,\n  0.0014706828799267717,\n  0.005403160977421625,\n  0.02803249378482757,\n  -0.007020911900868923,\n  0.0008168684205103833,\n  0.024374970605779752,\n  -0.023684387534772717,\n  -0.004520751086484128,\n  -0.007730676489715902,\n  -0.007199951663121077,\n  -0.016906459066449827,\n  0.014220864029651241,\n  0.005569411819350507,\n  -0.005032292998255287,\n  0.00022759616615362931,\n  -0.005502272315959536,\n  -0.020026864355724903,\n  -0.0057772257210075405,\n  -0.006499778764516551,\n  0.016394917154678668,\n  -0.01106209291072883,\n  -0.017980696708640265,\n  0.0014554965027041276,\n  0.01867127791700234,\n  -0.034426767681967056,\n  0.01185498268770963,\n  0.007340625595725897,\n  -0.021126679838561885,\n  -0.00876654876792025,\n  0.005601383188836205,\n  0.015589238457374595,\n  0.010077374916833847,\n  0.005534243685445233,\n  0.02092206270132443,\n  0.013734899027204144,\n  0.009527467175415354,\n  0.03368503265495686,\n  -0.015422987149784472,\n  -0.02708614162057992,\n  0.026753639005399673,\n  0.0057772257210075405,\n  -0.008050389718911637,\n  0.010147712115966876,\n  -0.02739306639511362,\n  0.010761561665034282,\n  0.009725689852491174,\n  0.010972573262433375,\n  0.004264980130598548,\n  -0.021139466896240196,\n  0.03680543608158698,\n  -0.020333789130258604,\n  -0.015845008481937692,\n  0.006733169575497646,\n  0.022188128560429055,\n  0.03166444284851877,\n  0.00862587436965419,\n  -0.017315691478279775,\n  0.024976031234523886,\n  -0.000777703516173466,\n  0.016804149566508615,\n  0.013108260557813467,\n  -0.010729590295548585,\n  0.013581436639937293,\n  -0.006605284097554856,\n  -0.020627924984469036,\n  -0.008408469243415944,\n  -0.007813802143510963,\n  -0.0032179180127725783,\n  0.01777607957140281,\n  -0.010294780043072093,\n  0.012481621157100307,\n  -0.0071040375546639846,\n  -0.04570626385628917,\n  0.010742379215871857,\n  0.003436921986881854,\n  -0.02263572773322882,\n  -0.0005047479724723862,\n  9.571428157704118e-05,\n  0.009457129976282322,\n  0.005380780832517141,\n  -0.02245668843663791,\n  -0.009156599661910257,\n  0.029541541679494503,\n  -0.006045785597216392,\n  -0.008088755548558969,\n  -0.01946416862530562,\n  0.026830370664694337,\n  0.015231158932870288,\n  -0.018927048872887917,\n  -0.015857797402260964,\n  0.018632913018677488,\n  0.00027455410053383363,\n  0.04557837837834638,\n  0.011273103576805442,\n  0.021241776396181404,\n  0.01946416862530562,\n  -0.003318627733520277,\n  0.032073673397703756,\n  -0.028620767355893393,\n  -0.02194514652486675,\n  -0.010672042016738825,\n  -0.025065551814141825,\n  0.019681572820221385,\n  0.030257700728503117,\n  0.001174148404663866,\n  -0.017213383840983528,\n  0.014847502499041917,\n  0.029388080223550134,\n  0.024234296207513693,\n  -0.004651833794507736,\n  0.006499778764516551,\n  0.015448564059108534,\n  0.012807729312118918,\n  -0.03294329762794666,\n  0.01511606237525077,\n  0.03130636053004701,\n  -0.0006154488043920205,\n  0.014847502499041917,\n  0.016382128234355395,\n  0.017724925752754687,\n  0.004217023076370003,\n  -0.006893026422926133,\n  0.026779216846046214,\n  0.011170795008186712,\n  0.021113890918238617,\n  -0.0281859571034169,\n  0.006688409751349918,\n  0.018914259952564644,\n  0.0027367488554467076,\n  -0.01033954033288106,\n  -0.009143810741586985,\n  -0.004041180544198666,\n  0.042457974951716264,\n  0.0010102951360496666,\n  -0.03892833725061124,\n  0.012865277590928677,\n  -0.010365117242205122,\n  0.017238961681630072,\n  0.020295424231933753,\n  -0.0015522098022661141,\n  0.0013659766215780506,\n  -0.006733169575497646,\n  -0.022341590016373425,\n  0.010627282658252338,\n  0.012865277590928677,\n  0.013670956288232748,\n  -0.012667055845175338,\n  0.00028614373943469554,\n  0.01977109339983932,\n  -0.007679522205406538,\n  -0.006116122330688182,\n  -0.005633354558321903,\n  -0.0001668505699515697,\n  0.039337567799796226,\n  -0.00405077223444112,\n  -0.005444723571488536,\n  -0.6343119109915982,\n  -0.011209160837834046,\n  0.0033346134182631257,\n  -0.01287806651125195,\n  0.013121048546814257,\n  0.024554009902370666,\n  0.009374004788148503,\n  0.008856068416215708,\n  -0.021868414865572082,\n  -0.022853131928144584,\n  -0.005339218238450231,\n  -0.0014451057377720896,\n  -3.794101926628087e-05,\n  0.012967586159547404,\n  0.003641538658458069,\n  -0.02839057424065436,\n  0.003318627733520277,\n  -0.01059531128876664,\n  -0.005476694940974233,\n  -0.009214147940720015,\n  -0.014297594757623426,\n  0.03342926169907128,\n  -0.01922118472709835,\n  -0.002313128442591837,\n  0.018875895054239793,\n  -0.0035839901468176895,\n  0.010473819339663005,\n  -0.024426124424427875,\n  -0.002823071739322587,\n  0.007743464944377933,\n  -0.024157564548219025,\n  0.018888683974563066,\n  0.010083769376995481,\n  0.007538848272801718,\n  0.0515122660450078,\n  0.004869238920745982,\n  -0.017290115500278196,\n  0.039260838003146524,\n  -0.01434874950759403,\n  0.0179039650493456,\n  -0.017993485628963538,\n  -0.01762261811545844,\n  0.013082682717166923,\n  -0.015384621320137138,\n  -0.0036767072580245847,\n  -0.005291261184221684,\n  8.212644663523702e-05,\n  0.01157363482249999,\n  0.011004544631919072,\n  0.00757721363678781,\n  -0.002501759429425204,\n  -0.013364031513699045,\n  -0.0010614494203590307,\n  0.008747366318757825,\n  -0.00032011331951324905,\n  -0.0021596658224943654,\n  0.043378751137962336,\n  -0.009457129976282322,\n  -0.0017776080037064052,\n  0.0031875452583272896,\n  0.008069573099396543,\n  0.006534947364083067,\n  -0.026983833983283672,\n  -0.027546529713702955,\n  0.007372596965211595,\n  0.018057428367934933,\n  -0.04304624666013713,\n  -0.01073598475571022,\n  0.02551315098694159,\n  -0.008830491506891646,\n  -0.005281669959640471,\n  -0.002247587088580033,\n  -0.006956969161897528,\n  -0.00912462829242456,\n  0.011432960424233928,\n  0.02081975320138322,\n  0.022034665241839724,\n  -0.011586422811500779,\n  -0.0008712197602776,\n  0.012596718646042308,\n  0.004693396388574646,\n  -0.013351242593375775,\n  0.008159092747692,\n  0.007564425182125779,\n  0.009015925263644194,\n  -0.012846095141766252,\n  -0.020321000209935332,\n  -0.015256735842194348,\n  0.023658811556771138,\n  -0.0008176676698229327,\n  0.0052433041299931385,\n  0.0009487503196388853,\n  0.028620767355893393,\n  -0.011010938160758226,\n  -0.012609506635043097,\n  0.023326308941590893,\n  -0.009572227465224323,\n  -0.010461031350662215,\n  0.016816938486831887,\n  -0.03161328716722568,\n  -0.007193557668620682,\n  -0.005188952615602957,\n  0.017635405173136748,\n  0.011253921127643016,\n  -0.015295101671841681,\n  0.0015506113036410155,\n  0.012462438707937881,\n  0.0021724542771563962,\n  0.037444863471300924,\n  -0.014284806768622635,\n  0.0065413413585834615,\n  -0.018351564222145365,\n  -0.003942069671321997,\n  -0.018888683974563066,\n  -0.0012820517766780949,\n  -0.020743023404733517,\n  -0.004898013525812103,\n  0.020960427599649282,\n  0.03184348028246472,\n  0.006291964862859518,\n  0.010812716415004886,\n  0.00018673276244010506,\n  0.018313199323820514,\n  0.0028278673516131934,\n  -0.004440822662769885,\n  0.02708614162057992,\n  0.009073473542453954,\n  -0.000537518591270633,\n  -0.002797494597167905,\n  0.009361215867825231,\n  -0.008434046152740005,\n  0.010147712115966876,\n  0.008753759847596979,\n  -0.027444220213761743,\n  0.01078074504551919,\n  -0.03312233506189261,\n  -0.005192149845683774,\n  -0.01588337524290751,\n  0.013645379378908687,\n  -0.00923333038988244,\n  -0.007877744882482359,\n  -0.0020957230835229705,\n  0.018364353142468634,\n  -0.007334231601225503,\n  0.010927812972624405,\n  -0.00848520090271061,\n  0.005940279798516846,\n  -0.015384621320137138,\n  -0.001291643234089928,\n  0.002474583672230113,\n  -0.002887014478293982,\n  0.012123542563918482,\n  -0.0032035309430701385,\n  0.012980375079870677,\n  0.005780422951088359,\n  0.008721788478111283,\n  -0.008645057750139098,\n  -0.0138244186754996,\n  -0.00011949298181126314,\n  -0.008920011155187103,\n  0.004245797681436123,\n  0.016394917154678668,\n  -0.012174696382566606,\n  -0.010345933861720216,\n  -0.026549021868162215,\n  -0.014911445238013313,\n  0.0022571785459918666,\n  0.0012716611281613673,\n  -0.01776329065107954,\n  -0.037137940559412184,\n  0.003993223489970121,\n  6.469206066775901e-05,\n  -0.004728564988141161,\n  0.003795001278555541,\n  -0.001397947991063748,\n  -0.006320739002264398,\n  -0.01024362622442397,\n  -0.009521072715253718,\n  -0.009757661221976872,\n  -0.014220864029651241,\n  0.014284806768622635,\n  -0.02120340963521159,\n  -0.0027799102973846473,\n  0.00020131970267833724,\n  0.005153784481697682,\n  0.015576449537051323,\n  0.003702284167348646,\n  0.02263572773322882,\n  -0.03946545327773902,\n  -0.0006761944296979077,\n  -0.0024010497086775053,\n  0.03212482907899684,\n  0.0019470561921314153,\n  -0.02145918059109717,\n  0.0026232506800369783,\n  -0.006650044387363826,\n  0.006752352490321313,\n  0.010588916828605004,\n  0.022686881551876942,\n  0.02700940996128525,\n  0.014681251191451795,\n  -0.009642563733034872,\n  0.012929220329900072,\n  -0.001300435383981557,\n  0.004674213939412221,\n  -0.022482264414639488,\n  0.0003970443982343809,\n  -0.017545886456163774,\n  0.012149119473242544,\n  0.006950575167397133,\n  -0.012046810904623815,\n  0.004114714973412516,\n  -0.014975387976984708,\n  0.0035648074648246438,\n  0.004341711789893215,\n  0.01879916339494513,\n  0.005313641329126169,\n  0.001739242290474382,\n  0.010288385582910457,\n  -0.0156403932073452,\n  -0.007641156375759205,\n  -0.017047133464715886,\n  0.0040124064047937875,\n  -0.0027639246126417985,\n  -0.02176610536563087,\n  -0.0040347865496982716,\n  0.016752995747860492,\n  0.018262043642527426,\n  0.007711493574892236,\n  0.013645379378908687,\n  -0.03120405289275077,\n  -0.016177511097117937,\n  0.013376819502699836,\n  0.005348809463031443,\n  -0.015819432503936113,\n  -0.03997699518951017,\n  0.031152899074102645,\n  -0.01735405823924959,\n  0.01777607957140281,\n  0.011471326253881262,\n  0.017635405173136748,\n  -0.010473819339663005,\n  0.016804149566508615,\n  -0.018965413771212768,\n  0.009553044084739415,\n  0.006122516790849818,\n  0.03414541888543493,\n  -0.010799927494681616,\n  -0.00848520090271061,\n  0.03286656410600704,\n  -0.019937343776106963,\n  -0.017878387208699057,\n  -0.02933692640490201,\n  -0.0005115418535635039,\n  0.019451379704982348,\n  -0.015090484534604225,\n  -0.00215327159516335,\n  0.02987404429467475,\n  0.008715394949272127,\n  0.022418321675668092,\n  0.02405525691092278,\n  0.03724024819670843,\n  -0.008159092747692,\n  0.008159092747692,\n  -0.0037726211336510562,\n  0.018658488996679067,\n  0.0002523739862361931,\n  -0.04926148312333067,\n  -0.006093742651444938,\n  0.012730998584146733,\n  -0.01846666077976488,\n  -0.013223357115432984,\n  0.020244268550640668,\n  0.005985039622664575,\n  0.02461795264134206,\n  -0.026804792824047796,\n  -0.01094699542178683,\n  -0.001995013362775272,\n  -0.003814183960548587,\n  0.004632650879684069,\n  -0.011420172435233139,\n  -0.024822569778579516,\n  0.02649786804951409,\n  -0.004728564988141161,\n  -0.0010318758570186364,\n  -0.04345548093461204,\n  -0.019873401037135568,\n  -0.024438913344751147,\n  -0.024272661105838544,\n  0.006518961679340218,\n  0.023326308941590893,\n  0.010166894565129302,\n  -0.0068994208830877694,\n  0.004939576119879013,\n  0.007199951663121077,\n  0.015180005114222165,\n  0.03621716437316611,\n  -0.012245033581699635,\n  -0.042713745907601845,\n  -0.006618073017878128,\n  -0.001137381306472252,\n  0.003082039692458364,\n  0.007430145709682595,\n  -0.05545113802058773,\n  9.066879837488818e-05,\n  -0.013121048546814257,\n  -0.0042362059911936695,\n  0.004501568171660461,\n  -0.0037374527669151616,\n  -0.020116383072697877,\n  -0.01448942297453761,\n  -0.021957933582545056,\n  -0.018620124098354215,\n  -0.024720260278638308,\n  0.011650365550472174,\n  0.009783238131300933,\n  -0.01232176430967182,\n  -0.008299767145958061,\n  0.035066195071681,\n  -0.014131344381355784,\n  -0.01202762845546139,\n  -0.015755489764964718,\n  -0.02619094327498039,\n  -0.0013364031746529667,\n  0.06102694336877739,\n  0.018185313845877724,\n  -0.0006909811531604496,\n  0.008050389718911637,\n  -0.015729911924318173,\n  -0.01749473263751565,\n  -0.047752431503373806,\n  -0.002298741140058777,\n  -0.022009089263838145,\n  -0.015167216193898892,\n  0.00807596755955818,\n  0.0003598777044903197,\n  -0.0027863045247156627,\n  0.008274189305311519,\n  0.008440440612901641,\n  0.007609185006273508,\n  0.008466017522225703,\n  -0.010870264693814646,\n  0.005304049638883715,\n  -0.003795001278555541,\n  -0.006861055053440436,\n  0.02245668843663791,\n  0.033326954061775035,\n  0.018415506961116757,\n  -0.004063560689103151,\n  0.007909716251968056,\n  0.0006314344891348693,\n  0.014041823801737846,\n  0.014041823801737846,\n  -0.02688152448334246,\n  -0.002362683879030172,\n  0.0022236085614657604,\n  -0.009661747113519779,\n  -0.008408469243415944,\n  -0.010013432177862451,\n  0.00471577653347913,\n  -0.006064968046378818,\n  -0.001718460993440927,\n  0.012551958356233338,\n  0.0022411928612490178,\n  0.026625753527456882,\n  0.0440437526430329,\n  0.0003311034777739575,\n  0.00641665311072149,\n  0.01670184192921237,\n  0.005646143478645174,\n  0.0003694691036944979,\n  0.03069251098097961,\n  -0.02516785945143807,\n  -0.008242217935825821,\n  0.005988236852745393,\n  0.030078661431912204,\n  -0.02979731263538008,\n  -0.014425480235566215,\n  -0.007276682856754503,\n  0.023684387534772717,\n  -0.035398695824216286,\n  -0.024592374800695517,\n  0.01895262671353446,\n  0.008888039785701405,\n  0.007781830774025267,\n  -0.031127323096101066,\n  -0.006148093700173879,\n  -0.02615257837665554,\n  -0.017213383840983528,\n  -0.02564103646488438,\n  -0.009949489438891056,\n  -0.013773264856851477,\n  -0.004520751086484128,\n  -0.025410841487000378,\n  0.012980375079870677,\n  0.004332120099650762,\n  -0.012149119473242544,\n  -0.023761119194067384,\n  0.022073032002809537,\n  0.006502975994597369,\n  0.017302904420601468,\n  -0.010441847970177307,\n  0.01697040180542122,\n  0.02752095187305641,\n  -0.014566154633832276,\n  -0.023454194419533683,\n  0.003935675211160361,\n  -0.02749537589505483,\n  -0.009776843671139297,\n  0.000329305064957325,\n  0.0013236146035756255,\n  0.009156599661910257,\n  0.004619862425022038,\n  0.006493384304354915,\n  0.04424837164291532,\n  0.030871552140215485,\n  0.03849352513548979,\n  0.021638221750333045,\n  -0.010173289025290938,\n  -0.007967264530777816,\n  0.003280262136703564,\n  0.02267409263155367,\n  -0.01515442727357562,\n  -0.0030548641680938934,\n  -6.579107940421262e-05,\n  -0.043429903093965494,\n  -0.005195347075764592,\n  -0.002568899398477417,\n  -0.0006246405498360964,\n  0.01988618995745884,\n  0.013082682717166923,\n  0.013786052845852267,\n  0.0005307247101795153,\n  -0.018210889823879303,\n  0.018274832562850698,\n  -0.028927692130427098,\n  0.022047454162162996,\n  -0.00021800475239753734,\n  0.019182819828773498,\n  0.05284227278043885,\n  0.022546207153610883,\n  0.011695125840281144,\n  -0.012232244661376363,\n  -0.02949038786084638,\n  0.016535591552944727,\n  -0.025474784225971773,\n  0.028364996400007815,\n  0.015960106902202176,\n  -0.00953386163557699,\n  -0.006976152076721195,\n  -0.01408018963138518,\n  -0.003283459366784382,\n  0.011081275359891255,\n  0.0030948283799510155,\n  0.010697618926062887,\n  -0.0016169518487577134,\n  -0.0021165043805564257,\n  -0.016676264088565824,\n  -0.029515965701492924,\n  -0.010672042016738825,\n  -0.00848520090271061,\n  -0.005796408635831207,\n  -0.004533539541146159,\n  -0.0009807216891245826,\n  -0.02790460830688478,\n  -0.017238961681630072,\n  0.02039773186923,\n  -0.005211332760507441,\n  0.008459623993386548,\n  -0.028416150218655938,\n  0.003833366875372254,\n  0.020627924984469036,\n  0.0001223903842605217,\n  0.025065551814141825,\n  0.010640070647253128,\n  -0.0007900923752830497,\n  -0.02908115544901643,\n  -0.00133160744594705,\n  -0.018274832562850698,\n  -0.035449851505509375,\n  -0.014399903326242153,\n  -0.000988714531496007,\n  -0.007679522205406538,\n  0.02524459111073274,\n  0.044836643351336185,\n  -0.001676898166543396,\n  0.02304496014505877,\n  -0.004552722455969826,\n  -0.01419528712032718,\n  0.011324258326776046,\n  -0.012500804537585215,\n  -0.0030932297649106065,\n  -0.018901471032241376,\n  0.015320678581165743,\n  0.0039196895264175125,\n  0.021791683206277414,\n  -0.0114457493445572,\n  0.009879152239758026,\n  -0.014502211894860883,\n  -0.0031220039043154857,\n  -0.008012024820586784,\n  -0.017430789898544255,\n  0.006455018940368823,\n  -0.048775515326916125,\n  -0.0036958899400176305,\n  -0.009815209500786631,\n  -0.008721788478111283,\n  0.013300088774727652,\n  0.02170216262665948,\n  -0.004898013525812103,\n  0.0077050991147306,\n  -0.02500160907517043,\n  0.026753639005399673,\n  -0.014566154633832276,\n  0.023415829521208832,\n  -0.02425987218551527,\n  0.004466400037755187,\n  -0.01950253352363047,\n  0.017200594920660256,\n  -0.01514163928457483,\n  0.005607777648997841,\n  -0.006001025307407423,\n  0.008459623993386548,\n  0.0069186037979114354,\n  0.02649786804951409,\n  0.0421510483145376,\n  0.014630097372803672,\n  0.0031044196045322283,\n  -0.009821603960948267,\n  0.004712579303398313,\n  -0.026753639005399673,\n  -0.03286656410600704,\n  -0.006467807395030853,\n  -0.016215877858087754,\n  0.00023538918164500255,\n  -0.015576449537051323,\n  0.002639236364779827,\n  -0.04028392182668884,\n  0.004587891055536341,\n  -0.0014371128954006654,\n  -0.026676907346105005,\n  -2.640135527532402e-05,\n  0.012961191699385768,\n  -0.010294780043072093,\n  -0.02327515512294277,\n  -0.0040347865496982716,\n  0.04020719203003914,\n  -0.006867449513602072,\n  0.007244711487268805,\n  0.032048099282347135,\n  -0.003520047407846295,\n  0.010716802306547795,\n  -0.054581517515634746,\n  0.001469084264886363,\n  -0.0015921740141232358,\n  0.013901150334794266,\n  0.043429903093965494,\n  0.0023355083546657013,\n  -0.0023514940394085498,\n  0.008318949595120487,\n  0.025960750159741353,\n  -0.006547735818745098,\n  -0.008798520137405948,\n  -0.004728564988141161,\n  0.021088313077592073,\n  0.005195347075764592,\n  -0.007609185006273508,\n  0.003420936302139005,\n  -0.002839057424065436,\n  0.021165044736886737,\n  -0.0016800952802089038,\n  -0.017072709442717465,\n  -0.031229630733397313,\n  0.009738477841491964,\n  -0.008740971858596189,\n  -0.007928898701130482,\n  -0.024119199649894174,\n  0.007481299528330718,\n  -0.008133515838367938,\n  0.004520751086484128,\n  0.009092656922938862,\n  -0.016510013712298183,\n  -0.013965093073765662,\n  0.015589238457374595,\n  0.004776522042369708,\n  0.03153655737057598,\n  0.00030992243966891745,\n  -0.01114521809886265,\n  0.00709764356016359,\n  0.01243686179861382,\n  -0.002166060049825381,\n  -0.021625432830009773,\n  -0.024438913344751147,\n  0.03639620180711206,\n  -0.006096939415864516,\n  -0.0031555738888415924,\n  -0.0013108260324982846,\n  0.0029925198113322873,\n  0.020717445564086973,\n  -0.0020605544839564552,\n  -0.014003458903412995,\n  0.015231158932870288,\n  -0.012814123772280554,\n  0.002460196602527673,\n  -0.02000128651507836,\n  -0.013223357115432984,\n  -0.0007241514257187987,\n  0.006873843973763708,\n  -0.01298676860870983,\n  -0.02170216262665948,\n  -0.00552465199520278,\n  -0.010230837304100697,\n  0.003436921986881854,\n  -0.017750501730756266,\n  -0.028927692130427098,\n  -0.01934907020504114,\n  0.010691225397223733,\n  0.031229630733397313,\n  -0.007852167973158297,\n  -0.01448942297453761,\n  0.001137381306472252,\n  0.03327579838048195,\n  -0.015307890592164954,\n  0.016573956451269578,\n  0.00500032162876959,\n  0.002359486881779974,\n  -0.006455018940368823,\n  -0.006320739002264398,\n  0.014873079408365979,\n  -0.0038205781878796023,\n  0.02516785945143807,\n  -0.0065157644492594,\n  0.002260375543242064,\n  -0.033761762451606565,\n  -0.015307890592164954,\n  0.0024010497086775053,\n  0.0049044075203124975,\n  -0.005655734703226387,\n  0.043199709978726464,\n  0.0013236146035756255,\n  0.008657845739139887,\n  -0.009866363319434754,\n  -0.03874929609137536,\n  -0.006937786712735102,\n  -0.003056462550303682,\n  0.013338453673052503,\n  -0.009003136343320922,\n  -0.03286656410600704,\n  0.004958759034702679,\n  0.015870586322584236,\n  -0.0349894652750313,\n  0.0053264297837882,\n  -0.022213704538430634,\n  -0.02287870976879113,\n  -0.00361276451905319,\n  -0.012807729312118918,\n  2.832463260715016e-05,\n  -0.035142924868330705,\n  -0.018735220655973734,\n  -0.01789117612902233,\n  -0.006493384304354915,\n  0.015691547025993322,\n  -0.001042266505535364,\n  0.020934851621647703,\n  0.024157564548219025,\n  0.034043111248138684,\n  0.006256796263293002,\n  0.006263190723454638,\n  -0.003903703841674664,\n  -0.0016816938952493128,\n  0.0016657082105064642,\n  -0.01526952476251762,\n  -0.0313575162113401,\n  -0.0007385385536288936,\n  -0.006320739002264398,\n  0.02959269736078759,\n  0.012213062212213938,\n  -0.021957933582545056,\n  -0.023377462760239016,\n  0.002249185703620442,\n  -0.01643328205300352,\n  -0.03148540168928289,\n  -0.02619094327498039,\n  0.016880881225803283,\n  0.00216765866486579,\n  -0.003721467082172313,\n  0.0033633877904986256,\n  -0.005077052822403015,\n  0.007532453812640082,\n  0.001572191908194675,\n  -0.02885096047113243,\n  -0.018632913018677488,\n  -0.0037086783946796613,\n  0.00837010341376861,\n  0.004223417536531639,\n  0.0046454393343461,\n  -0.04488779903262927,\n  0.000254971648365375,\n  0.007519665357978051,\n  0.01094699542178683,\n  0.01736684715957286,\n  0.02370996537541926,\n  -0.012571141736718246,\n  -0.008280583765473153,\n  -0.009911123609243722,\n  -0.003230706467434609,\n  0.004952364574541043,\n  0.005508666310459931,\n  -0.01514163928457483,\n  -0.03018096906920845,\n  -0.0008704204527573955,\n  0.013108260557813467,\n  -0.011330651855615199,\n  -0.006272781948035851,\n  0.03056462550303682,\n  0.02119062257753328,\n  0.001616152541237509,\n  0.007954475610454544,\n  -0.006560524273407128,\n  -0.02713729543922804,\n  -0.005217727220669077,\n  -0.00398043503530809,\n  -0.015832221424259385,\n  -0.013312876763728441,\n  -0.010684830937062097,\n  0.046652617883181785,\n  0.0011349835003269487,\n  -0.0016561167530946307,\n  -0.017085498363040737,\n  0.021868414865572082,\n  -0.007340625595725897,\n  -0.011388201065747441,\n  0.008888039785701405,\n  -0.007008123446206892,\n  0.019170030908450226,\n  -0.016599534291916122,\n  0.011036516001404768,\n  -0.010250019753263123,\n  0.017085498363040737,\n  0.016816938486831887,\n  -0.006867449513602072,\n  -0.023735543216065805,\n  0.017315691478279775,\n  -0.006995334991544862,\n  0.00469019962415507,\n  0.0003902504880394357,\n  -0.0030676526227559242,\n  -0.022316014038371846,\n  -0.016292607654737456,\n  -0.0015266327765267422,\n  0.018632913018677488,\n  -0.010704013386224523,\n  0.0002617655585603202,\n  0.003478484580948764,\n  -0.009668141573681415,\n  -0.022571784994257424,\n  0.013555859730613231,\n  0.00841486370357758,\n  0.008421258163739216,\n  -0.0025433222563227345,\n  0.2617048062993416,\n  -0.008472411982387339,\n  -0.011522480072529385,\n  0.0327131007874177,\n  0.008043996190072481,\n  0.015243947853193558,\n  0.005006716088931226,\n  0.017584251354488625,\n  0.007877744882482359,\n  0.007813802143510963,\n  0.0020333789595919846,\n  -0.014591731543156338,\n  0.00705288327035462,\n  0.0032866563640345796,\n  -0.0072383174927684105,\n  -0.03984910971156738,\n  -0.02422150728719042,\n  -0.00954664962457778,\n  0.0075452422673021125,\n  -0.029822890476026626,\n  0.026932678301990583,\n  -0.002258776928201655,\n  -0.004846859241502738,\n  -0.015384621320137138,\n  0.017187806000336984,\n  0.006080953731121667,\n  -0.019681572820221385,\n  0.006518961679340218,\n  -0.006854661058940041,\n  0.009457129976282322,\n  -0.012181090842728242,\n  -0.0063399219170880644,\n  0.012443256258775456,\n  0.015077696545603436,\n  -0.014425480235566215,\n  -0.0043513030144744285,\n  0.005144192791455228,\n  0.0011909333969269192,\n  0.020474463528524667,\n  -0.0024298238480823845,\n  0.008095150008720605,\n  -0.01897820269153604,\n  0.01734126931892632,\n  -0.026165365434333846,\n  -0.002300339755099186,\n  0.0061385024755926665,\n  ...]]"
     },
     "execution_count": 27,
     "metadata": {},
     "output_type": "execute_result"
    }
   ]
  },
  {
   "cell_type": "code",
   "execution_count": 33,
   "outputs": [
    {
     "name": "stdout",
     "output_type": "stream",
     "text": [
      "<class 'list'>\n",
      "<class 'float'>\n",
      "3\n",
      "1536\n"
     ]
    }
   ],
   "source": [
    "print(type(embeddings[0]))\n",
    "print(type(embeddings[0][0]))\n",
    "print(len(embeddings))\n",
    "print(len(embeddings[0]))"
   ],
   "metadata": {
    "collapsed": false,
    "ExecuteTime": {
     "end_time": "2024-03-25T11:37:30.819322600Z",
     "start_time": "2024-03-25T11:37:30.805322500Z"
    }
   }
  },
  {
   "cell_type": "markdown",
   "source": [
    "### 向量数据存储\n",
    "\n",
    "向量数据存储，或成为向量数据库，负责存储文本嵌入的向量表现，并提供向量检索的能力。\n",
    "`Langchain` 提供了多种开源或商业向量数据存储，包括：Chroma, FAISS, Pinecone等。这里以Chroma为例。\n",
    "\n",
    "`Langchain` 提供了 `Chroma` 包装类，封装了chromadb的操作。"
   ],
   "metadata": {
    "id": "QYq8gm4g6ZBl"
   }
  },
  {
   "cell_type": "markdown",
   "source": [
    "### 存储\n",
    "在进行以下代码执行前，需要安装 `Chroma` 的包：（安装指定版本，否则会报错）"
   ],
   "metadata": {
    "id": "Jff1dIkk6cwh"
   }
  },
  {
   "cell_type": "code",
   "source": [
    "# !pip install chromadb==0.4.15"
   ],
   "metadata": {
    "id": "3KT-ziYSMMn9",
    "ExecuteTime": {
     "end_time": "2024-03-25T11:45:06.297260300Z",
     "start_time": "2024-03-25T11:45:06.286255800Z"
    }
   },
   "execution_count": 34,
   "outputs": []
  },
  {
   "cell_type": "code",
   "source": [
    "from langchain.document_loaders import TextLoader\n",
    "from langchain.embeddings.openai import OpenAIEmbeddings\n",
    "from langchain.text_splitter import CharacterTextSplitter\n",
    "from langchain.vectorstores import Chroma\n",
    "\n",
    "text_splitter = CharacterTextSplitter(chunk_size=1000, chunk_overlap=0)\n",
    "documents = text_splitter.split_documents(docs)\n",
    "print((documents))"
   ],
   "metadata": {
    "id": "vtDRMAx752w_",
    "ExecuteTime": {
     "end_time": "2024-03-25T11:52:42.938022400Z",
     "start_time": "2024-03-25T11:52:42.912022500Z"
    }
   },
   "execution_count": 38,
   "outputs": [
    {
     "name": "stdout",
     "output_type": "stream",
     "text": [
      "[Document(page_content='---\\ntitle: 01. Hello Langchain\\ntags:\\n  - openai\\n  - llm\\n  - langchain\\n---\\n\\n# WTF Langchain极简入门: 01. Hello Langchain\\n\\n最近在学习Langchain框架，顺手写一个“WTF Langchain极简入门”，供小白们使用（编程大佬可以另找教程）。本教程默认以下前提：\\n- 使用Python版本的[Langchain](https://github.com/hwchase17/langchain)\\n- LLM使用OpenAI的模型\\n- Langchain目前还处于快速发展阶段，版本迭代频繁，为避免示例代码失效，本教程统一使用版本 **0.0.235**\\n\\n根据Langchain的[代码约定](https://github.com/hwchase17/langchain/blob/v0.0.235/pyproject.toml#L14C1-L14C24)，Python版本 \">=3.8.1,<4.0\"。\\n\\n推特：[@verysmallwoods](https://twitter.com/verysmallwoods)\\n\\n所有代码和教程开源在github: [github.com/sugarforever/wtf-langchain](https://github.com/sugarforever/wtf-langchain)\\n\\n-----\\n\\n## Langchain 简介\\n\\n大型语言模型（LLM）正在成为一种具有变革性的技术，使开发人员能够构建以前无法实现的应用程序。然而，仅仅依靠LLM还不足以创建一个真正强大的应用程序。它还需要其他计算资源或知识来源。\\n\\n`Langchain` 旨在帮助开发这些类型应用程序，比如：\\n- 基于文档数据的问答\\n- 聊天机器人\\n- 代理\\n\\n## OpenAI 简介\\n\\n`OpenAI` 是LLM生态的模型层最大的玩家之一。大家目前熟知的 *GPT-3.5*，*GPT-4* 等模型都是OpenAI的产品。它的API允许开发人员通过简单的API调用来访问这些模型。\\n\\n## Langchain与OpenAI\\n\\n`Langchain` 作为一个开源框架，提供与OpenAI等语言模型的接口，简化了在应用程序中集成和利用语言模型能力的过程。', metadata={'source': './LongText.md'}), Document(page_content=\"## 开发前的准备\\n\\n在开始第一个Langchain应用程序之前，我们需要做一些必要的准备。\\n\\n### Google Colab\\n\\n本教程中，我们将使用 `Google Colab` 在云端运行 `Python` 代码。Google Colab（全称Google Colaboratory）是一个由Google提供的云端开发环境，用于数据分析、机器学习和深度学习任务。它基于Jupyter Notebook，提供了一个免费的、云端的Python编程环境，用户可以直接在浏览器中编写和执行Python代码。\\n\\n网址：[https://colab.research.google.com/](https://colab.research.google.com/)\\n\\n![Google Colab](./google_colab.png)\\n\\n无法使用Google Colab的同学，可以使用Visual Studio Code配合Jupyter插件在本地运行代码。\\n\\n### OpenAI API Key\\n\\n在Langchain应用中使用OpenAI的模型，我们需要一个API Key。点击[https://platform.openai.com/account/api-keys](https://platform.openai.com/account/api-keys)创建你的API Key。\\n\\n## 第一个 Langchain 应用\\n\\n这个简单的程序只有 1 行安装指令和 7 行代码：\\n\\n### 安装指令\\n\\n```shell\\npip install langchain==0.0.235 openai==0.28.2\\n```\\n\\n### 代码\\n\\n[Hello_Langchain.ipynb](./Hello_Langchain.ipynb)\\n\\n```python\\nfrom langchain.chat_models import ChatOpenAI\\nfrom langchain.schema import HumanMessage\\n\\nimport os\\nos.environ['OPENAI_API_KEY'] = '您的有效OpenAI API Key'\", metadata={'source': './LongText.md'}), Document(page_content='chat = ChatOpenAI(temperature=0, model_name=\"gpt-3.5-turbo\")\\nresponse = chat([ HumanMessage(content=\"Hello Langchain!\") ])\\nprint(response)\\n```\\n\\n你应该能看到类似这样的输出：\\n\\n```shell\\ncontent=\\'Hello! How can I assist you today?\\' additional_kwargs={} example=False\\n```\\n\\n我们拆解程序，学习该代码的结构：\\n\\n1. 以下系统命令安装必要的Python包，langchain和openai。\\n\\n  ```shell\\n  pip install langchain==0.0.235 openai\\n  ```\\n\\n2. 以下代码将OpenAI的API Key设置在环境变量中。默认情况下，Langchain会从环境变量 `OPENAI_API_KEY` 中读取API Key。注意，在代码中直接嵌入API Key明文并不安全，切勿将API Key直接提交到代码仓库。我们建议利用.env文件和python-dotenv包来管理API Key。\\n\\n  ```python\\n  import os\\n  os.environ[\\'OPENAI_API_KEY\\'] = \\'您的有效OpenAI API Key\\'\\n  ```\\n    \\n3. 以下代码导入了 `ChatOpenAI` 类，该类封装了OpenAI的聊天模型。`ChatOpenAI` 类的初始化参数 `temperature` 用于控制模型的生成文本的多样性。`temperature` 越大，生成的文本越多样，但也越不可控。`temperature` 越小，生成的文本越单一，但也越可控。`temperature` 的取值范围为 0 到 1，默认值为 0.5。初始化参数 `model_name` 用于指定使用的模型，默认值为 `gpt-3.5-turbo`。\\n\\n  ```python\\n  chat = ChatOpenAI(temperature=0, model_name=\"gpt-3.5-turbo\")\\n  ```\\n\\n4. 以下代码完成与OpenAI GPT模型的第一次对话，并打印出响应。', metadata={'source': './LongText.md'}), Document(page_content='```python\\n  response = chat([ HumanMessage(content=\"Hello Langchain!\") ])\\n  print(response)\\n  ```\\n\\n## 运行代码\\n\\n在 Google Colab 的页面，在每一个代码块，按 Ctrl/Cmd + Enter 即可运行代码，非常方便。\\n\\n![](./hello_langchain.png)\\n\\n## 总结\\n本节课程中，我们简要介绍了 `Langchain`，`OpenAI` 以及它们的关系，并完成了第一个 `Langchain` 应用 —— `Hello Langchain`。\\n\\n### 相关文档资料链接：\\n1. [Python Langchain官方文档](https://python.langchain.com/docs/get_started/introduction.html)', metadata={'source': './LongText.md'})]\n"
     ]
    }
   ]
  },
  {
   "cell_type": "markdown",
   "source": [
    "### 检索"
   ],
   "metadata": {
    "id": "3SmtLL016f5l"
   }
  },
  {
   "cell_type": "code",
   "execution_count": 40,
   "outputs": [
    {
     "name": "stderr",
     "output_type": "stream",
     "text": [
      "C:\\Users\\Administrator\\.cache\\chroma\\onnx_models\\all-MiniLM-L6-v2\\onnx.tar.gz: 100%|██████████| 79.3M/79.3M [00:09<00:00, 9.07MiB/s]\n"
     ]
    },
    {
     "ename": "TypeError",
     "evalue": "query() got an unexpected keyword argument 'embedding_function'",
     "output_type": "error",
     "traceback": [
      "\u001B[1;31m---------------------------------------------------------------------------\u001B[0m",
      "\u001B[1;31mTypeError\u001B[0m                                 Traceback (most recent call last)",
      "Cell \u001B[1;32mIn[40], line 27\u001B[0m\n\u001B[0;32m     25\u001B[0m \u001B[38;5;66;03m# 进行向量相似度搜索\u001B[39;00m\n\u001B[0;32m     26\u001B[0m query \u001B[38;5;241m=\u001B[39m \u001B[38;5;124m\"\u001B[39m\u001B[38;5;124mWhat is AI?\u001B[39m\u001B[38;5;124m\"\u001B[39m\n\u001B[1;32m---> 27\u001B[0m results \u001B[38;5;241m=\u001B[39m \u001B[43mcolletion\u001B[49m\u001B[38;5;241;43m.\u001B[39;49m\u001B[43mquery\u001B[49m\u001B[43m(\u001B[49m\n\u001B[0;32m     28\u001B[0m \u001B[43m    \u001B[49m\u001B[43mquery_texts\u001B[49m\u001B[38;5;241;43m=\u001B[39;49m\u001B[43m[\u001B[49m\u001B[43mquery\u001B[49m\u001B[43m]\u001B[49m\u001B[43m,\u001B[49m\n\u001B[0;32m     29\u001B[0m \u001B[43m    \u001B[49m\u001B[43membedding_function\u001B[49m\u001B[38;5;241;43m=\u001B[39;49m\u001B[43membedding_function\u001B[49m\u001B[43m,\u001B[49m\n\u001B[0;32m     30\u001B[0m \u001B[43m    \u001B[49m\u001B[43mn_results\u001B[49m\u001B[38;5;241;43m=\u001B[39;49m\u001B[38;5;241;43m2\u001B[39;49m\u001B[43m \u001B[49m\u001B[38;5;66;43;03m# 返回最相关的 2 个结果\u001B[39;49;00m\n\u001B[0;32m     31\u001B[0m \u001B[43m)\u001B[49m\n\u001B[0;32m     33\u001B[0m \u001B[38;5;66;03m# 打印搜索结果\u001B[39;00m\n\u001B[0;32m     34\u001B[0m \u001B[38;5;28;01mfor\u001B[39;00m result \u001B[38;5;129;01min\u001B[39;00m results[\u001B[38;5;124m\"\u001B[39m\u001B[38;5;124mids\u001B[39m\u001B[38;5;124m\"\u001B[39m]:\n",
      "\u001B[1;31mTypeError\u001B[0m: query() got an unexpected keyword argument 'embedding_function'"
     ]
    }
   ],
   "source": [
    "db = Chroma.from_documents(documents, OpenAIEmbeddings())"
   ],
   "metadata": {
    "collapsed": false,
    "ExecuteTime": {
     "end_time": "2024-03-25T12:03:46.344417200Z",
     "start_time": "2024-03-25T12:03:35.156884400Z"
    }
   }
  },
  {
   "cell_type": "code",
   "source": [
    "query = \"什么是WTF Langchain？\"\n",
    "docs = db.similarity_search(query)\n",
    "docs"
   ],
   "metadata": {
    "id": "XqqP4P4554j5"
   },
   "execution_count": null,
   "outputs": []
  },
  {
   "cell_type": "code",
   "source": [
    "docs = db.similarity_search_with_score(query)\n",
    "docs"
   ],
   "metadata": {
    "id": "bAa13Y7DM-rO"
   },
   "execution_count": null,
   "outputs": []
  }
 ]
}
